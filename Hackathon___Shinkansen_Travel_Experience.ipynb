{
  "nbformat": 4,
  "nbformat_minor": 0,
  "metadata": {
    "colab": {
      "name": "Hackathon _ Shinkansen Travel Experience.ipynb",
      "provenance": [],
      "collapsed_sections": []
    },
    "kernelspec": {
      "name": "python3",
      "display_name": "Python 3"
    },
    "language_info": {
      "name": "python"
    }
  },
  "cells": [
    {
      "cell_type": "markdown",
      "metadata": {
        "id": "PkVFmGD7F4Mq"
      },
      "source": [
        "Goal:\n",
        "**The goal of the problem is to predict whether a passenger was delighted considering his/her overall travel experience of traveling in Shinkansen (Bullet Train). For each passenger id in the test set, you must predict the “Overall_Experience” level.**\n",
        "\n",
        "Dataset\n",
        "\n",
        "The problem consists of 2 separate datasets: Travel data & Survey data. The Travel data has information related to passengers and the performance of the Train in which they traveled. The survey data is the aggregated data of surveys collected post-service experience. You are expected to treat both the datasets as raw data and perform any necessary cleaning/validation steps as required.\n",
        "\n",
        "Metric to measure\n",
        "\n",
        "Your score is the percentage of all correct predictions made by you. This is simply known as accuracy. The best accuracy is 1 whereas the worst is 0. It will be calculated as the total number of two correct predictions (True positive + True negative) divided by the total number of observations in the dataset.\n",
        "\n",
        "Submission File Format:\n",
        "\n",
        "You should submit a CSV file with exactly 35602 entries plus a header row.\n",
        "\n",
        "The file should have exactly two columns\n",
        "\n",
        "·         ID ( sorted in any order)\n",
        "\n",
        "·         Overall_Experience (contains 0 & 1, 1 represents delighted)"
      ]
    },
    {
      "cell_type": "code",
      "metadata": {
        "id": "f9na-ji0FuGz",
        "colab": {
          "base_uri": "https://localhost:8080/"
        },
        "outputId": "32b837c2-5b1f-4e13-ea0c-d25dc031290d"
      },
      "source": [
        "import numpy as np\n",
        "import pandas as pd\n",
        "import matplotlib.pyplot as plt\n",
        "import seaborn as sns\n",
        "from imblearn.over_sampling import SMOTE\n",
        "from sklearn.model_selection import train_test_split\n",
        "from sklearn.tree import DecisionTreeClassifier\n",
        "from sklearn.ensemble import BaggingClassifier\n",
        "from sklearn.metrics import accuracy_score, classification_report, confusion_matrix, f1_score\n",
        "from sklearn.ensemble import RandomForestClassifier\n",
        "from sklearn.ensemble import GradientBoostingClassifier\n",
        "from sklearn.naive_bayes import GaussianNB\n",
        "from sklearn.linear_model import LogisticRegression\n",
        "from sklearn.model_selection import GridSearchCV\n",
        "from sklearn.ensemble import VotingClassifier\n",
        "from sklearn.ensemble import AdaBoostClassifier\n",
        "from sklearn.svm import SVC"
      ],
      "execution_count": 1,
      "outputs": [
        {
          "output_type": "stream",
          "name": "stderr",
          "text": [
            "/usr/local/lib/python3.7/dist-packages/sklearn/externals/six.py:31: FutureWarning: The module is deprecated in version 0.21 and will be removed in version 0.23 since we've dropped support for Python 2.7. Please rely on the official version of six (https://pypi.org/project/six/).\n",
            "  \"(https://pypi.org/project/six/).\", FutureWarning)\n",
            "/usr/local/lib/python3.7/dist-packages/sklearn/utils/deprecation.py:144: FutureWarning: The sklearn.neighbors.base module is  deprecated in version 0.22 and will be removed in version 0.24. The corresponding classes / functions should instead be imported from sklearn.neighbors. Anything that cannot be imported from sklearn.neighbors is now part of the private API.\n",
            "  warnings.warn(message, FutureWarning)\n"
          ]
        }
      ]
    },
    {
      "cell_type": "code",
      "metadata": {
        "colab": {
          "base_uri": "https://localhost:8080/",
          "height": 504
        },
        "id": "dt2FbTKlK2Ri",
        "outputId": "e31d3fa2-991c-440c-e64c-a1636ede2a01"
      },
      "source": [
        "survey_df = pd.read_csv(\"Surveydata_train.csv\")\n",
        "survey_df_test = pd.read_csv(\"Surveydata_test.csv\")\n",
        "display(survey_df.head())\n",
        "display(survey_df_test.head())"
      ],
      "execution_count": 2,
      "outputs": [
        {
          "output_type": "display_data",
          "data": {
            "text/html": [
              "<div>\n",
              "<style scoped>\n",
              "    .dataframe tbody tr th:only-of-type {\n",
              "        vertical-align: middle;\n",
              "    }\n",
              "\n",
              "    .dataframe tbody tr th {\n",
              "        vertical-align: top;\n",
              "    }\n",
              "\n",
              "    .dataframe thead th {\n",
              "        text-align: right;\n",
              "    }\n",
              "</style>\n",
              "<table border=\"1\" class=\"dataframe\">\n",
              "  <thead>\n",
              "    <tr style=\"text-align: right;\">\n",
              "      <th></th>\n",
              "      <th>ID</th>\n",
              "      <th>Overall_Experience</th>\n",
              "      <th>Seat_comfort</th>\n",
              "      <th>Seat_Class</th>\n",
              "      <th>Arrival_time_convenient</th>\n",
              "      <th>Catering</th>\n",
              "      <th>Platform_location</th>\n",
              "      <th>Onboardwifi_service</th>\n",
              "      <th>Onboard_entertainment</th>\n",
              "      <th>Online_support</th>\n",
              "      <th>Onlinebooking_Ease</th>\n",
              "      <th>Onboard_service</th>\n",
              "      <th>Leg_room</th>\n",
              "      <th>Baggage_handling</th>\n",
              "      <th>Checkin_service</th>\n",
              "      <th>Cleanliness</th>\n",
              "      <th>Online_boarding</th>\n",
              "    </tr>\n",
              "  </thead>\n",
              "  <tbody>\n",
              "    <tr>\n",
              "      <th>0</th>\n",
              "      <td>98800001</td>\n",
              "      <td>0</td>\n",
              "      <td>need improvement</td>\n",
              "      <td>Green Car</td>\n",
              "      <td>excellent</td>\n",
              "      <td>excellent</td>\n",
              "      <td>very convinient</td>\n",
              "      <td>good</td>\n",
              "      <td>need improvement</td>\n",
              "      <td>acceptable</td>\n",
              "      <td>need improvement</td>\n",
              "      <td>need improvement</td>\n",
              "      <td>acceptable</td>\n",
              "      <td>need improvement</td>\n",
              "      <td>good</td>\n",
              "      <td>need improvement</td>\n",
              "      <td>poor</td>\n",
              "    </tr>\n",
              "    <tr>\n",
              "      <th>1</th>\n",
              "      <td>98800002</td>\n",
              "      <td>0</td>\n",
              "      <td>poor</td>\n",
              "      <td>Ordinary</td>\n",
              "      <td>excellent</td>\n",
              "      <td>poor</td>\n",
              "      <td>need improvement</td>\n",
              "      <td>good</td>\n",
              "      <td>poor</td>\n",
              "      <td>good</td>\n",
              "      <td>good</td>\n",
              "      <td>excellent</td>\n",
              "      <td>need improvement</td>\n",
              "      <td>poor</td>\n",
              "      <td>need improvement</td>\n",
              "      <td>good</td>\n",
              "      <td>good</td>\n",
              "    </tr>\n",
              "    <tr>\n",
              "      <th>2</th>\n",
              "      <td>98800003</td>\n",
              "      <td>1</td>\n",
              "      <td>need improvement</td>\n",
              "      <td>Green Car</td>\n",
              "      <td>need improvement</td>\n",
              "      <td>need improvement</td>\n",
              "      <td>need improvement</td>\n",
              "      <td>need improvement</td>\n",
              "      <td>good</td>\n",
              "      <td>excellent</td>\n",
              "      <td>excellent</td>\n",
              "      <td>excellent</td>\n",
              "      <td>excellent</td>\n",
              "      <td>excellent</td>\n",
              "      <td>good</td>\n",
              "      <td>excellent</td>\n",
              "      <td>excellent</td>\n",
              "    </tr>\n",
              "    <tr>\n",
              "      <th>3</th>\n",
              "      <td>98800004</td>\n",
              "      <td>0</td>\n",
              "      <td>acceptable</td>\n",
              "      <td>Ordinary</td>\n",
              "      <td>need improvement</td>\n",
              "      <td>NaN</td>\n",
              "      <td>need improvement</td>\n",
              "      <td>acceptable</td>\n",
              "      <td>need improvement</td>\n",
              "      <td>acceptable</td>\n",
              "      <td>acceptable</td>\n",
              "      <td>acceptable</td>\n",
              "      <td>acceptable</td>\n",
              "      <td>acceptable</td>\n",
              "      <td>good</td>\n",
              "      <td>acceptable</td>\n",
              "      <td>acceptable</td>\n",
              "    </tr>\n",
              "    <tr>\n",
              "      <th>4</th>\n",
              "      <td>98800005</td>\n",
              "      <td>1</td>\n",
              "      <td>acceptable</td>\n",
              "      <td>Ordinary</td>\n",
              "      <td>acceptable</td>\n",
              "      <td>acceptable</td>\n",
              "      <td>manageable</td>\n",
              "      <td>need improvement</td>\n",
              "      <td>good</td>\n",
              "      <td>excellent</td>\n",
              "      <td>good</td>\n",
              "      <td>good</td>\n",
              "      <td>good</td>\n",
              "      <td>good</td>\n",
              "      <td>good</td>\n",
              "      <td>good</td>\n",
              "      <td>good</td>\n",
              "    </tr>\n",
              "  </tbody>\n",
              "</table>\n",
              "</div>"
            ],
            "text/plain": [
              "         ID  Overall_Experience  ...       Cleanliness Online_boarding\n",
              "0  98800001                   0  ...  need improvement            poor\n",
              "1  98800002                   0  ...              good            good\n",
              "2  98800003                   1  ...         excellent       excellent\n",
              "3  98800004                   0  ...        acceptable      acceptable\n",
              "4  98800005                   1  ...              good            good\n",
              "\n",
              "[5 rows x 17 columns]"
            ]
          },
          "metadata": {}
        },
        {
          "output_type": "display_data",
          "data": {
            "text/html": [
              "<div>\n",
              "<style scoped>\n",
              "    .dataframe tbody tr th:only-of-type {\n",
              "        vertical-align: middle;\n",
              "    }\n",
              "\n",
              "    .dataframe tbody tr th {\n",
              "        vertical-align: top;\n",
              "    }\n",
              "\n",
              "    .dataframe thead th {\n",
              "        text-align: right;\n",
              "    }\n",
              "</style>\n",
              "<table border=\"1\" class=\"dataframe\">\n",
              "  <thead>\n",
              "    <tr style=\"text-align: right;\">\n",
              "      <th></th>\n",
              "      <th>ID</th>\n",
              "      <th>Seat_comfort</th>\n",
              "      <th>Seat_Class</th>\n",
              "      <th>Arrival_time_convenient</th>\n",
              "      <th>Catering</th>\n",
              "      <th>Platform_location</th>\n",
              "      <th>Onboardwifi_service</th>\n",
              "      <th>Onboard_entertainment</th>\n",
              "      <th>Online_support</th>\n",
              "      <th>Onlinebooking_Ease</th>\n",
              "      <th>Onboard_service</th>\n",
              "      <th>Leg_room</th>\n",
              "      <th>Baggage_handling</th>\n",
              "      <th>Checkin_service</th>\n",
              "      <th>Cleanliness</th>\n",
              "      <th>Online_boarding</th>\n",
              "    </tr>\n",
              "  </thead>\n",
              "  <tbody>\n",
              "    <tr>\n",
              "      <th>0</th>\n",
              "      <td>99900001</td>\n",
              "      <td>acceptable</td>\n",
              "      <td>Green Car</td>\n",
              "      <td>acceptable</td>\n",
              "      <td>acceptable</td>\n",
              "      <td>manageable</td>\n",
              "      <td>need improvement</td>\n",
              "      <td>excellent</td>\n",
              "      <td>good</td>\n",
              "      <td>excellent</td>\n",
              "      <td>excellent</td>\n",
              "      <td>excellent</td>\n",
              "      <td>excellent</td>\n",
              "      <td>good</td>\n",
              "      <td>excellent</td>\n",
              "      <td>poor</td>\n",
              "    </tr>\n",
              "    <tr>\n",
              "      <th>1</th>\n",
              "      <td>99900002</td>\n",
              "      <td>extremely poor</td>\n",
              "      <td>Ordinary</td>\n",
              "      <td>good</td>\n",
              "      <td>poor</td>\n",
              "      <td>manageable</td>\n",
              "      <td>acceptable</td>\n",
              "      <td>poor</td>\n",
              "      <td>acceptable</td>\n",
              "      <td>acceptable</td>\n",
              "      <td>excellent</td>\n",
              "      <td>acceptable</td>\n",
              "      <td>good</td>\n",
              "      <td>acceptable</td>\n",
              "      <td>excellent</td>\n",
              "      <td>acceptable</td>\n",
              "    </tr>\n",
              "    <tr>\n",
              "      <th>2</th>\n",
              "      <td>99900003</td>\n",
              "      <td>excellent</td>\n",
              "      <td>Ordinary</td>\n",
              "      <td>excellent</td>\n",
              "      <td>excellent</td>\n",
              "      <td>very convinient</td>\n",
              "      <td>excellent</td>\n",
              "      <td>excellent</td>\n",
              "      <td>excellent</td>\n",
              "      <td>need improvement</td>\n",
              "      <td>need improvement</td>\n",
              "      <td>need improvement</td>\n",
              "      <td>need improvement</td>\n",
              "      <td>good</td>\n",
              "      <td>need improvement</td>\n",
              "      <td>excellent</td>\n",
              "    </tr>\n",
              "    <tr>\n",
              "      <th>3</th>\n",
              "      <td>99900004</td>\n",
              "      <td>acceptable</td>\n",
              "      <td>Green Car</td>\n",
              "      <td>excellent</td>\n",
              "      <td>acceptable</td>\n",
              "      <td>very convinient</td>\n",
              "      <td>poor</td>\n",
              "      <td>acceptable</td>\n",
              "      <td>excellent</td>\n",
              "      <td>poor</td>\n",
              "      <td>acceptable</td>\n",
              "      <td>need improvement</td>\n",
              "      <td>excellent</td>\n",
              "      <td>excellent</td>\n",
              "      <td>excellent</td>\n",
              "      <td>poor</td>\n",
              "    </tr>\n",
              "    <tr>\n",
              "      <th>4</th>\n",
              "      <td>99900005</td>\n",
              "      <td>excellent</td>\n",
              "      <td>Ordinary</td>\n",
              "      <td>extremely poor</td>\n",
              "      <td>excellent</td>\n",
              "      <td>need improvement</td>\n",
              "      <td>excellent</td>\n",
              "      <td>excellent</td>\n",
              "      <td>excellent</td>\n",
              "      <td>excellent</td>\n",
              "      <td>NaN</td>\n",
              "      <td>acceptable</td>\n",
              "      <td>excellent</td>\n",
              "      <td>excellent</td>\n",
              "      <td>excellent</td>\n",
              "      <td>excellent</td>\n",
              "    </tr>\n",
              "  </tbody>\n",
              "</table>\n",
              "</div>"
            ],
            "text/plain": [
              "         ID    Seat_comfort  ...       Cleanliness Online_boarding\n",
              "0  99900001      acceptable  ...         excellent            poor\n",
              "1  99900002  extremely poor  ...         excellent      acceptable\n",
              "2  99900003       excellent  ...  need improvement       excellent\n",
              "3  99900004      acceptable  ...         excellent            poor\n",
              "4  99900005       excellent  ...         excellent       excellent\n",
              "\n",
              "[5 rows x 16 columns]"
            ]
          },
          "metadata": {}
        }
      ]
    },
    {
      "cell_type": "code",
      "metadata": {
        "colab": {
          "base_uri": "https://localhost:8080/",
          "height": 898
        },
        "id": "0EPt2rqlL0yi",
        "outputId": "37fd9188-acc0-40ca-d668-948b62cc4011"
      },
      "source": [
        "\n",
        "display(survey_df.info())\n",
        "display(survey_df_test.info())"
      ],
      "execution_count": 3,
      "outputs": [
        {
          "output_type": "stream",
          "name": "stdout",
          "text": [
            "<class 'pandas.core.frame.DataFrame'>\n",
            "RangeIndex: 94379 entries, 0 to 94378\n",
            "Data columns (total 17 columns):\n",
            " #   Column                   Non-Null Count  Dtype \n",
            "---  ------                   --------------  ----- \n",
            " 0   ID                       94379 non-null  int64 \n",
            " 1   Overall_Experience       94379 non-null  int64 \n",
            " 2   Seat_comfort             94318 non-null  object\n",
            " 3   Seat_Class               94379 non-null  object\n",
            " 4   Arrival_time_convenient  85449 non-null  object\n",
            " 5   Catering                 85638 non-null  object\n",
            " 6   Platform_location        94349 non-null  object\n",
            " 7   Onboardwifi_service      94349 non-null  object\n",
            " 8   Onboard_entertainment    94361 non-null  object\n",
            " 9   Online_support           94288 non-null  object\n",
            " 10  Onlinebooking_Ease       94306 non-null  object\n",
            " 11  Onboard_service          86778 non-null  object\n",
            " 12  Leg_room                 94289 non-null  object\n",
            " 13  Baggage_handling         94237 non-null  object\n",
            " 14  Checkin_service          94302 non-null  object\n",
            " 15  Cleanliness              94373 non-null  object\n",
            " 16  Online_boarding          94373 non-null  object\n",
            "dtypes: int64(2), object(15)\n",
            "memory usage: 12.2+ MB\n"
          ]
        },
        {
          "output_type": "display_data",
          "data": {
            "text/plain": [
              "None"
            ]
          },
          "metadata": {}
        },
        {
          "output_type": "stream",
          "name": "stdout",
          "text": [
            "<class 'pandas.core.frame.DataFrame'>\n",
            "RangeIndex: 35602 entries, 0 to 35601\n",
            "Data columns (total 16 columns):\n",
            " #   Column                   Non-Null Count  Dtype \n",
            "---  ------                   --------------  ----- \n",
            " 0   ID                       35602 non-null  int64 \n",
            " 1   Seat_comfort             35580 non-null  object\n",
            " 2   Seat_Class               35602 non-null  object\n",
            " 3   Arrival_time_convenient  32277 non-null  object\n",
            " 4   Catering                 32245 non-null  object\n",
            " 5   Platform_location        35590 non-null  object\n",
            " 6   Onboardwifi_service      35590 non-null  object\n",
            " 7   Onboard_entertainment    35594 non-null  object\n",
            " 8   Online_support           35576 non-null  object\n",
            " 9   Onlinebooking_Ease       35584 non-null  object\n",
            " 10  Onboard_service          32730 non-null  object\n",
            " 11  Leg_room                 35577 non-null  object\n",
            " 12  Baggage_handling         35562 non-null  object\n",
            " 13  Checkin_service          35580 non-null  object\n",
            " 14  Cleanliness              35600 non-null  object\n",
            " 15  Online_boarding          35600 non-null  object\n",
            "dtypes: int64(1), object(15)\n",
            "memory usage: 4.3+ MB\n"
          ]
        },
        {
          "output_type": "display_data",
          "data": {
            "text/plain": [
              "None"
            ]
          },
          "metadata": {}
        }
      ]
    },
    {
      "cell_type": "code",
      "metadata": {
        "colab": {
          "base_uri": "https://localhost:8080/",
          "height": 344
        },
        "id": "Y-WeH6z_L4C5",
        "outputId": "9fef24da-8d23-4271-e45f-f0efedcdd798"
      },
      "source": [
        "display(survey_df.iloc[:,2:17].describe(include = 'all'))\n",
        "display(survey_df_test.iloc[:,1:16].describe(include = 'all'))"
      ],
      "execution_count": 4,
      "outputs": [
        {
          "output_type": "display_data",
          "data": {
            "text/html": [
              "<div>\n",
              "<style scoped>\n",
              "    .dataframe tbody tr th:only-of-type {\n",
              "        vertical-align: middle;\n",
              "    }\n",
              "\n",
              "    .dataframe tbody tr th {\n",
              "        vertical-align: top;\n",
              "    }\n",
              "\n",
              "    .dataframe thead th {\n",
              "        text-align: right;\n",
              "    }\n",
              "</style>\n",
              "<table border=\"1\" class=\"dataframe\">\n",
              "  <thead>\n",
              "    <tr style=\"text-align: right;\">\n",
              "      <th></th>\n",
              "      <th>Seat_comfort</th>\n",
              "      <th>Seat_Class</th>\n",
              "      <th>Arrival_time_convenient</th>\n",
              "      <th>Catering</th>\n",
              "      <th>Platform_location</th>\n",
              "      <th>Onboardwifi_service</th>\n",
              "      <th>Onboard_entertainment</th>\n",
              "      <th>Online_support</th>\n",
              "      <th>Onlinebooking_Ease</th>\n",
              "      <th>Onboard_service</th>\n",
              "      <th>Leg_room</th>\n",
              "      <th>Baggage_handling</th>\n",
              "      <th>Checkin_service</th>\n",
              "      <th>Cleanliness</th>\n",
              "      <th>Online_boarding</th>\n",
              "    </tr>\n",
              "  </thead>\n",
              "  <tbody>\n",
              "    <tr>\n",
              "      <th>count</th>\n",
              "      <td>94318</td>\n",
              "      <td>94379</td>\n",
              "      <td>85449</td>\n",
              "      <td>85638</td>\n",
              "      <td>94349</td>\n",
              "      <td>94349</td>\n",
              "      <td>94361</td>\n",
              "      <td>94288</td>\n",
              "      <td>94306</td>\n",
              "      <td>86778</td>\n",
              "      <td>94289</td>\n",
              "      <td>94237</td>\n",
              "      <td>94302</td>\n",
              "      <td>94373</td>\n",
              "      <td>94373</td>\n",
              "    </tr>\n",
              "    <tr>\n",
              "      <th>unique</th>\n",
              "      <td>6</td>\n",
              "      <td>2</td>\n",
              "      <td>6</td>\n",
              "      <td>6</td>\n",
              "      <td>6</td>\n",
              "      <td>6</td>\n",
              "      <td>6</td>\n",
              "      <td>6</td>\n",
              "      <td>6</td>\n",
              "      <td>6</td>\n",
              "      <td>6</td>\n",
              "      <td>5</td>\n",
              "      <td>6</td>\n",
              "      <td>6</td>\n",
              "      <td>6</td>\n",
              "    </tr>\n",
              "    <tr>\n",
              "      <th>top</th>\n",
              "      <td>acceptable</td>\n",
              "      <td>Green Car</td>\n",
              "      <td>good</td>\n",
              "      <td>acceptable</td>\n",
              "      <td>manageable</td>\n",
              "      <td>good</td>\n",
              "      <td>good</td>\n",
              "      <td>good</td>\n",
              "      <td>good</td>\n",
              "      <td>good</td>\n",
              "      <td>good</td>\n",
              "      <td>good</td>\n",
              "      <td>good</td>\n",
              "      <td>good</td>\n",
              "      <td>good</td>\n",
              "    </tr>\n",
              "    <tr>\n",
              "      <th>freq</th>\n",
              "      <td>21158</td>\n",
              "      <td>47435</td>\n",
              "      <td>19574</td>\n",
              "      <td>18468</td>\n",
              "      <td>24173</td>\n",
              "      <td>22835</td>\n",
              "      <td>30446</td>\n",
              "      <td>30016</td>\n",
              "      <td>28909</td>\n",
              "      <td>27265</td>\n",
              "      <td>28870</td>\n",
              "      <td>34944</td>\n",
              "      <td>26502</td>\n",
              "      <td>35427</td>\n",
              "      <td>25533</td>\n",
              "    </tr>\n",
              "  </tbody>\n",
              "</table>\n",
              "</div>"
            ],
            "text/plain": [
              "       Seat_comfort Seat_Class  ... Cleanliness Online_boarding\n",
              "count         94318      94379  ...       94373           94373\n",
              "unique            6          2  ...           6               6\n",
              "top      acceptable  Green Car  ...        good            good\n",
              "freq          21158      47435  ...       35427           25533\n",
              "\n",
              "[4 rows x 15 columns]"
            ]
          },
          "metadata": {}
        },
        {
          "output_type": "display_data",
          "data": {
            "text/html": [
              "<div>\n",
              "<style scoped>\n",
              "    .dataframe tbody tr th:only-of-type {\n",
              "        vertical-align: middle;\n",
              "    }\n",
              "\n",
              "    .dataframe tbody tr th {\n",
              "        vertical-align: top;\n",
              "    }\n",
              "\n",
              "    .dataframe thead th {\n",
              "        text-align: right;\n",
              "    }\n",
              "</style>\n",
              "<table border=\"1\" class=\"dataframe\">\n",
              "  <thead>\n",
              "    <tr style=\"text-align: right;\">\n",
              "      <th></th>\n",
              "      <th>Seat_comfort</th>\n",
              "      <th>Seat_Class</th>\n",
              "      <th>Arrival_time_convenient</th>\n",
              "      <th>Catering</th>\n",
              "      <th>Platform_location</th>\n",
              "      <th>Onboardwifi_service</th>\n",
              "      <th>Onboard_entertainment</th>\n",
              "      <th>Online_support</th>\n",
              "      <th>Onlinebooking_Ease</th>\n",
              "      <th>Onboard_service</th>\n",
              "      <th>Leg_room</th>\n",
              "      <th>Baggage_handling</th>\n",
              "      <th>Checkin_service</th>\n",
              "      <th>Cleanliness</th>\n",
              "      <th>Online_boarding</th>\n",
              "    </tr>\n",
              "  </thead>\n",
              "  <tbody>\n",
              "    <tr>\n",
              "      <th>count</th>\n",
              "      <td>35580</td>\n",
              "      <td>35602</td>\n",
              "      <td>32277</td>\n",
              "      <td>32245</td>\n",
              "      <td>35590</td>\n",
              "      <td>35590</td>\n",
              "      <td>35594</td>\n",
              "      <td>35576</td>\n",
              "      <td>35584</td>\n",
              "      <td>32730</td>\n",
              "      <td>35577</td>\n",
              "      <td>35562</td>\n",
              "      <td>35580</td>\n",
              "      <td>35600</td>\n",
              "      <td>35600</td>\n",
              "    </tr>\n",
              "    <tr>\n",
              "      <th>unique</th>\n",
              "      <td>6</td>\n",
              "      <td>2</td>\n",
              "      <td>6</td>\n",
              "      <td>6</td>\n",
              "      <td>5</td>\n",
              "      <td>6</td>\n",
              "      <td>6</td>\n",
              "      <td>5</td>\n",
              "      <td>6</td>\n",
              "      <td>5</td>\n",
              "      <td>6</td>\n",
              "      <td>5</td>\n",
              "      <td>5</td>\n",
              "      <td>5</td>\n",
              "      <td>6</td>\n",
              "    </tr>\n",
              "    <tr>\n",
              "      <th>top</th>\n",
              "      <td>acceptable</td>\n",
              "      <td>Ordinary</td>\n",
              "      <td>good</td>\n",
              "      <td>acceptable</td>\n",
              "      <td>manageable</td>\n",
              "      <td>good</td>\n",
              "      <td>good</td>\n",
              "      <td>good</td>\n",
              "      <td>good</td>\n",
              "      <td>good</td>\n",
              "      <td>good</td>\n",
              "      <td>good</td>\n",
              "      <td>good</td>\n",
              "      <td>good</td>\n",
              "      <td>good</td>\n",
              "    </tr>\n",
              "    <tr>\n",
              "      <th>freq</th>\n",
              "      <td>8003</td>\n",
              "      <td>17860</td>\n",
              "      <td>7361</td>\n",
              "      <td>7133</td>\n",
              "      <td>9364</td>\n",
              "      <td>8743</td>\n",
              "      <td>11436</td>\n",
              "      <td>11487</td>\n",
              "      <td>11025</td>\n",
              "      <td>10222</td>\n",
              "      <td>10842</td>\n",
              "      <td>13291</td>\n",
              "      <td>9982</td>\n",
              "      <td>13421</td>\n",
              "      <td>9680</td>\n",
              "    </tr>\n",
              "  </tbody>\n",
              "</table>\n",
              "</div>"
            ],
            "text/plain": [
              "       Seat_comfort Seat_Class  ... Cleanliness Online_boarding\n",
              "count         35580      35602  ...       35600           35600\n",
              "unique            6          2  ...           5               6\n",
              "top      acceptable   Ordinary  ...        good            good\n",
              "freq           8003      17860  ...       13421            9680\n",
              "\n",
              "[4 rows x 15 columns]"
            ]
          },
          "metadata": {}
        }
      ]
    },
    {
      "cell_type": "code",
      "metadata": {
        "colab": {
          "base_uri": "https://localhost:8080/",
          "height": 646
        },
        "id": "exKx53m6MWPA",
        "outputId": "d3f88ea6-e4e9-4e77-a139-e3d7cf344200"
      },
      "source": [
        "\n",
        "display(survey_df.isna().sum())\n",
        "display(survey_df_test.isna().sum())"
      ],
      "execution_count": 5,
      "outputs": [
        {
          "output_type": "display_data",
          "data": {
            "text/plain": [
              "ID                            0\n",
              "Overall_Experience            0\n",
              "Seat_comfort                 61\n",
              "Seat_Class                    0\n",
              "Arrival_time_convenient    8930\n",
              "Catering                   8741\n",
              "Platform_location            30\n",
              "Onboardwifi_service          30\n",
              "Onboard_entertainment        18\n",
              "Online_support               91\n",
              "Onlinebooking_Ease           73\n",
              "Onboard_service            7601\n",
              "Leg_room                     90\n",
              "Baggage_handling            142\n",
              "Checkin_service              77\n",
              "Cleanliness                   6\n",
              "Online_boarding               6\n",
              "dtype: int64"
            ]
          },
          "metadata": {}
        },
        {
          "output_type": "display_data",
          "data": {
            "text/plain": [
              "ID                            0\n",
              "Seat_comfort                 22\n",
              "Seat_Class                    0\n",
              "Arrival_time_convenient    3325\n",
              "Catering                   3357\n",
              "Platform_location            12\n",
              "Onboardwifi_service          12\n",
              "Onboard_entertainment         8\n",
              "Online_support               26\n",
              "Onlinebooking_Ease           18\n",
              "Onboard_service            2872\n",
              "Leg_room                     25\n",
              "Baggage_handling             40\n",
              "Checkin_service              22\n",
              "Cleanliness                   2\n",
              "Online_boarding               2\n",
              "dtype: int64"
            ]
          },
          "metadata": {}
        }
      ]
    },
    {
      "cell_type": "code",
      "metadata": {
        "colab": {
          "base_uri": "https://localhost:8080/",
          "height": 385
        },
        "id": "jap9gD3XMihi",
        "outputId": "7bd31bfc-8fb7-47c3-c761-a023151991b9"
      },
      "source": [
        "travel_df = pd.read_csv(\"Traveldata_train.csv\")\n",
        "display(travel_df.head())\n",
        "travel_df_test = pd.read_csv(\"Traveldata_test.csv\")\n",
        "display(travel_df_test.head())"
      ],
      "execution_count": 6,
      "outputs": [
        {
          "output_type": "display_data",
          "data": {
            "text/html": [
              "<div>\n",
              "<style scoped>\n",
              "    .dataframe tbody tr th:only-of-type {\n",
              "        vertical-align: middle;\n",
              "    }\n",
              "\n",
              "    .dataframe tbody tr th {\n",
              "        vertical-align: top;\n",
              "    }\n",
              "\n",
              "    .dataframe thead th {\n",
              "        text-align: right;\n",
              "    }\n",
              "</style>\n",
              "<table border=\"1\" class=\"dataframe\">\n",
              "  <thead>\n",
              "    <tr style=\"text-align: right;\">\n",
              "      <th></th>\n",
              "      <th>ID</th>\n",
              "      <th>Gender</th>\n",
              "      <th>CustomerType</th>\n",
              "      <th>Age</th>\n",
              "      <th>TypeTravel</th>\n",
              "      <th>Travel_Class</th>\n",
              "      <th>Travel_Distance</th>\n",
              "      <th>DepartureDelay_in_Mins</th>\n",
              "      <th>ArrivalDelay_in_Mins</th>\n",
              "    </tr>\n",
              "  </thead>\n",
              "  <tbody>\n",
              "    <tr>\n",
              "      <th>0</th>\n",
              "      <td>98800001</td>\n",
              "      <td>Female</td>\n",
              "      <td>Loyal Customer</td>\n",
              "      <td>52.0</td>\n",
              "      <td>NaN</td>\n",
              "      <td>Business</td>\n",
              "      <td>272</td>\n",
              "      <td>0.0</td>\n",
              "      <td>5.0</td>\n",
              "    </tr>\n",
              "    <tr>\n",
              "      <th>1</th>\n",
              "      <td>98800002</td>\n",
              "      <td>Male</td>\n",
              "      <td>Loyal Customer</td>\n",
              "      <td>48.0</td>\n",
              "      <td>Personal Travel</td>\n",
              "      <td>Eco</td>\n",
              "      <td>2200</td>\n",
              "      <td>9.0</td>\n",
              "      <td>0.0</td>\n",
              "    </tr>\n",
              "    <tr>\n",
              "      <th>2</th>\n",
              "      <td>98800003</td>\n",
              "      <td>Female</td>\n",
              "      <td>Loyal Customer</td>\n",
              "      <td>43.0</td>\n",
              "      <td>Business travel</td>\n",
              "      <td>Business</td>\n",
              "      <td>1061</td>\n",
              "      <td>77.0</td>\n",
              "      <td>119.0</td>\n",
              "    </tr>\n",
              "    <tr>\n",
              "      <th>3</th>\n",
              "      <td>98800004</td>\n",
              "      <td>Female</td>\n",
              "      <td>Loyal Customer</td>\n",
              "      <td>44.0</td>\n",
              "      <td>Business travel</td>\n",
              "      <td>Business</td>\n",
              "      <td>780</td>\n",
              "      <td>13.0</td>\n",
              "      <td>18.0</td>\n",
              "    </tr>\n",
              "    <tr>\n",
              "      <th>4</th>\n",
              "      <td>98800005</td>\n",
              "      <td>Female</td>\n",
              "      <td>Loyal Customer</td>\n",
              "      <td>50.0</td>\n",
              "      <td>Business travel</td>\n",
              "      <td>Business</td>\n",
              "      <td>1981</td>\n",
              "      <td>0.0</td>\n",
              "      <td>0.0</td>\n",
              "    </tr>\n",
              "  </tbody>\n",
              "</table>\n",
              "</div>"
            ],
            "text/plain": [
              "         ID  Gender  ... DepartureDelay_in_Mins  ArrivalDelay_in_Mins\n",
              "0  98800001  Female  ...                    0.0                   5.0\n",
              "1  98800002    Male  ...                    9.0                   0.0\n",
              "2  98800003  Female  ...                   77.0                 119.0\n",
              "3  98800004  Female  ...                   13.0                  18.0\n",
              "4  98800005  Female  ...                    0.0                   0.0\n",
              "\n",
              "[5 rows x 9 columns]"
            ]
          },
          "metadata": {}
        },
        {
          "output_type": "display_data",
          "data": {
            "text/html": [
              "<div>\n",
              "<style scoped>\n",
              "    .dataframe tbody tr th:only-of-type {\n",
              "        vertical-align: middle;\n",
              "    }\n",
              "\n",
              "    .dataframe tbody tr th {\n",
              "        vertical-align: top;\n",
              "    }\n",
              "\n",
              "    .dataframe thead th {\n",
              "        text-align: right;\n",
              "    }\n",
              "</style>\n",
              "<table border=\"1\" class=\"dataframe\">\n",
              "  <thead>\n",
              "    <tr style=\"text-align: right;\">\n",
              "      <th></th>\n",
              "      <th>ID</th>\n",
              "      <th>Gender</th>\n",
              "      <th>CustomerType</th>\n",
              "      <th>Age</th>\n",
              "      <th>TypeTravel</th>\n",
              "      <th>Travel_Class</th>\n",
              "      <th>Travel_Distance</th>\n",
              "      <th>DepartureDelay_in_Mins</th>\n",
              "      <th>ArrivalDelay_in_Mins</th>\n",
              "    </tr>\n",
              "  </thead>\n",
              "  <tbody>\n",
              "    <tr>\n",
              "      <th>0</th>\n",
              "      <td>99900001</td>\n",
              "      <td>Female</td>\n",
              "      <td>NaN</td>\n",
              "      <td>36.0</td>\n",
              "      <td>Business travel</td>\n",
              "      <td>Business</td>\n",
              "      <td>532</td>\n",
              "      <td>0.0</td>\n",
              "      <td>0.0</td>\n",
              "    </tr>\n",
              "    <tr>\n",
              "      <th>1</th>\n",
              "      <td>99900002</td>\n",
              "      <td>Female</td>\n",
              "      <td>disloyal Customer</td>\n",
              "      <td>21.0</td>\n",
              "      <td>Business travel</td>\n",
              "      <td>Business</td>\n",
              "      <td>1425</td>\n",
              "      <td>9.0</td>\n",
              "      <td>28.0</td>\n",
              "    </tr>\n",
              "    <tr>\n",
              "      <th>2</th>\n",
              "      <td>99900003</td>\n",
              "      <td>Male</td>\n",
              "      <td>Loyal Customer</td>\n",
              "      <td>60.0</td>\n",
              "      <td>Business travel</td>\n",
              "      <td>Business</td>\n",
              "      <td>2832</td>\n",
              "      <td>0.0</td>\n",
              "      <td>0.0</td>\n",
              "    </tr>\n",
              "    <tr>\n",
              "      <th>3</th>\n",
              "      <td>99900004</td>\n",
              "      <td>Female</td>\n",
              "      <td>Loyal Customer</td>\n",
              "      <td>29.0</td>\n",
              "      <td>Personal Travel</td>\n",
              "      <td>Eco</td>\n",
              "      <td>1352</td>\n",
              "      <td>0.0</td>\n",
              "      <td>0.0</td>\n",
              "    </tr>\n",
              "    <tr>\n",
              "      <th>4</th>\n",
              "      <td>99900005</td>\n",
              "      <td>Male</td>\n",
              "      <td>disloyal Customer</td>\n",
              "      <td>18.0</td>\n",
              "      <td>Business travel</td>\n",
              "      <td>Business</td>\n",
              "      <td>1610</td>\n",
              "      <td>17.0</td>\n",
              "      <td>0.0</td>\n",
              "    </tr>\n",
              "  </tbody>\n",
              "</table>\n",
              "</div>"
            ],
            "text/plain": [
              "         ID  Gender  ... DepartureDelay_in_Mins  ArrivalDelay_in_Mins\n",
              "0  99900001  Female  ...                    0.0                   0.0\n",
              "1  99900002  Female  ...                    9.0                  28.0\n",
              "2  99900003    Male  ...                    0.0                   0.0\n",
              "3  99900004  Female  ...                    0.0                   0.0\n",
              "4  99900005    Male  ...                   17.0                   0.0\n",
              "\n",
              "[5 rows x 9 columns]"
            ]
          },
          "metadata": {}
        }
      ]
    },
    {
      "cell_type": "code",
      "metadata": {
        "colab": {
          "base_uri": "https://localhost:8080/",
          "height": 628
        },
        "id": "AzQSzzZiNkIx",
        "outputId": "7d3703e7-15e3-4bbd-ffc2-77a5a29b98cc"
      },
      "source": [
        "\n",
        "display(travel_df.info())\n",
        "display(travel_df_test.info())"
      ],
      "execution_count": 7,
      "outputs": [
        {
          "output_type": "stream",
          "name": "stdout",
          "text": [
            "<class 'pandas.core.frame.DataFrame'>\n",
            "RangeIndex: 94379 entries, 0 to 94378\n",
            "Data columns (total 9 columns):\n",
            " #   Column                  Non-Null Count  Dtype  \n",
            "---  ------                  --------------  -----  \n",
            " 0   ID                      94379 non-null  int64  \n",
            " 1   Gender                  94302 non-null  object \n",
            " 2   CustomerType            85428 non-null  object \n",
            " 3   Age                     94346 non-null  float64\n",
            " 4   TypeTravel              85153 non-null  object \n",
            " 5   Travel_Class            94379 non-null  object \n",
            " 6   Travel_Distance         94379 non-null  int64  \n",
            " 7   DepartureDelay_in_Mins  94322 non-null  float64\n",
            " 8   ArrivalDelay_in_Mins    94022 non-null  float64\n",
            "dtypes: float64(3), int64(2), object(4)\n",
            "memory usage: 6.5+ MB\n"
          ]
        },
        {
          "output_type": "display_data",
          "data": {
            "text/plain": [
              "None"
            ]
          },
          "metadata": {}
        },
        {
          "output_type": "stream",
          "name": "stdout",
          "text": [
            "<class 'pandas.core.frame.DataFrame'>\n",
            "RangeIndex: 35602 entries, 0 to 35601\n",
            "Data columns (total 9 columns):\n",
            " #   Column                  Non-Null Count  Dtype  \n",
            "---  ------                  --------------  -----  \n",
            " 0   ID                      35602 non-null  int64  \n",
            " 1   Gender                  35572 non-null  object \n",
            " 2   CustomerType            32219 non-null  object \n",
            " 3   Age                     35591 non-null  float64\n",
            " 4   TypeTravel              32154 non-null  object \n",
            " 5   Travel_Class            35602 non-null  object \n",
            " 6   Travel_Distance         35602 non-null  int64  \n",
            " 7   DepartureDelay_in_Mins  35573 non-null  float64\n",
            " 8   ArrivalDelay_in_Mins    35479 non-null  float64\n",
            "dtypes: float64(3), int64(2), object(4)\n",
            "memory usage: 2.4+ MB\n"
          ]
        },
        {
          "output_type": "display_data",
          "data": {
            "text/plain": [
              "None"
            ]
          },
          "metadata": {}
        }
      ]
    },
    {
      "cell_type": "code",
      "metadata": {
        "colab": {
          "base_uri": "https://localhost:8080/",
          "height": 751
        },
        "id": "cZxgzYpINotr",
        "outputId": "a81e4a2f-5ea7-401b-dca1-a9ddbebcbd8a"
      },
      "source": [
        "\n",
        "display(travel_df.iloc[:,1:9].describe(include ='all'))\n",
        "display(travel_df_test.iloc[:,1:9].describe(include ='all'))"
      ],
      "execution_count": 8,
      "outputs": [
        {
          "output_type": "display_data",
          "data": {
            "text/html": [
              "<div>\n",
              "<style scoped>\n",
              "    .dataframe tbody tr th:only-of-type {\n",
              "        vertical-align: middle;\n",
              "    }\n",
              "\n",
              "    .dataframe tbody tr th {\n",
              "        vertical-align: top;\n",
              "    }\n",
              "\n",
              "    .dataframe thead th {\n",
              "        text-align: right;\n",
              "    }\n",
              "</style>\n",
              "<table border=\"1\" class=\"dataframe\">\n",
              "  <thead>\n",
              "    <tr style=\"text-align: right;\">\n",
              "      <th></th>\n",
              "      <th>Gender</th>\n",
              "      <th>CustomerType</th>\n",
              "      <th>Age</th>\n",
              "      <th>TypeTravel</th>\n",
              "      <th>Travel_Class</th>\n",
              "      <th>Travel_Distance</th>\n",
              "      <th>DepartureDelay_in_Mins</th>\n",
              "      <th>ArrivalDelay_in_Mins</th>\n",
              "    </tr>\n",
              "  </thead>\n",
              "  <tbody>\n",
              "    <tr>\n",
              "      <th>count</th>\n",
              "      <td>94302</td>\n",
              "      <td>85428</td>\n",
              "      <td>94346.000000</td>\n",
              "      <td>85153</td>\n",
              "      <td>94379</td>\n",
              "      <td>94379.000000</td>\n",
              "      <td>94322.000000</td>\n",
              "      <td>94022.000000</td>\n",
              "    </tr>\n",
              "    <tr>\n",
              "      <th>unique</th>\n",
              "      <td>2</td>\n",
              "      <td>2</td>\n",
              "      <td>NaN</td>\n",
              "      <td>2</td>\n",
              "      <td>2</td>\n",
              "      <td>NaN</td>\n",
              "      <td>NaN</td>\n",
              "      <td>NaN</td>\n",
              "    </tr>\n",
              "    <tr>\n",
              "      <th>top</th>\n",
              "      <td>Female</td>\n",
              "      <td>Loyal Customer</td>\n",
              "      <td>NaN</td>\n",
              "      <td>Business travel</td>\n",
              "      <td>Eco</td>\n",
              "      <td>NaN</td>\n",
              "      <td>NaN</td>\n",
              "      <td>NaN</td>\n",
              "    </tr>\n",
              "    <tr>\n",
              "      <th>freq</th>\n",
              "      <td>47815</td>\n",
              "      <td>69823</td>\n",
              "      <td>NaN</td>\n",
              "      <td>58617</td>\n",
              "      <td>49342</td>\n",
              "      <td>NaN</td>\n",
              "      <td>NaN</td>\n",
              "      <td>NaN</td>\n",
              "    </tr>\n",
              "    <tr>\n",
              "      <th>mean</th>\n",
              "      <td>NaN</td>\n",
              "      <td>NaN</td>\n",
              "      <td>39.419647</td>\n",
              "      <td>NaN</td>\n",
              "      <td>NaN</td>\n",
              "      <td>1978.888185</td>\n",
              "      <td>14.647092</td>\n",
              "      <td>15.005222</td>\n",
              "    </tr>\n",
              "    <tr>\n",
              "      <th>std</th>\n",
              "      <td>NaN</td>\n",
              "      <td>NaN</td>\n",
              "      <td>15.116632</td>\n",
              "      <td>NaN</td>\n",
              "      <td>NaN</td>\n",
              "      <td>1027.961019</td>\n",
              "      <td>38.138781</td>\n",
              "      <td>38.439409</td>\n",
              "    </tr>\n",
              "    <tr>\n",
              "      <th>min</th>\n",
              "      <td>NaN</td>\n",
              "      <td>NaN</td>\n",
              "      <td>7.000000</td>\n",
              "      <td>NaN</td>\n",
              "      <td>NaN</td>\n",
              "      <td>50.000000</td>\n",
              "      <td>0.000000</td>\n",
              "      <td>0.000000</td>\n",
              "    </tr>\n",
              "    <tr>\n",
              "      <th>25%</th>\n",
              "      <td>NaN</td>\n",
              "      <td>NaN</td>\n",
              "      <td>27.000000</td>\n",
              "      <td>NaN</td>\n",
              "      <td>NaN</td>\n",
              "      <td>1359.000000</td>\n",
              "      <td>0.000000</td>\n",
              "      <td>0.000000</td>\n",
              "    </tr>\n",
              "    <tr>\n",
              "      <th>50%</th>\n",
              "      <td>NaN</td>\n",
              "      <td>NaN</td>\n",
              "      <td>40.000000</td>\n",
              "      <td>NaN</td>\n",
              "      <td>NaN</td>\n",
              "      <td>1923.000000</td>\n",
              "      <td>0.000000</td>\n",
              "      <td>0.000000</td>\n",
              "    </tr>\n",
              "    <tr>\n",
              "      <th>75%</th>\n",
              "      <td>NaN</td>\n",
              "      <td>NaN</td>\n",
              "      <td>51.000000</td>\n",
              "      <td>NaN</td>\n",
              "      <td>NaN</td>\n",
              "      <td>2538.000000</td>\n",
              "      <td>12.000000</td>\n",
              "      <td>13.000000</td>\n",
              "    </tr>\n",
              "    <tr>\n",
              "      <th>max</th>\n",
              "      <td>NaN</td>\n",
              "      <td>NaN</td>\n",
              "      <td>85.000000</td>\n",
              "      <td>NaN</td>\n",
              "      <td>NaN</td>\n",
              "      <td>6951.000000</td>\n",
              "      <td>1592.000000</td>\n",
              "      <td>1584.000000</td>\n",
              "    </tr>\n",
              "  </tbody>\n",
              "</table>\n",
              "</div>"
            ],
            "text/plain": [
              "        Gender    CustomerType  ...  DepartureDelay_in_Mins ArrivalDelay_in_Mins\n",
              "count    94302           85428  ...            94322.000000         94022.000000\n",
              "unique       2               2  ...                     NaN                  NaN\n",
              "top     Female  Loyal Customer  ...                     NaN                  NaN\n",
              "freq     47815           69823  ...                     NaN                  NaN\n",
              "mean       NaN             NaN  ...               14.647092            15.005222\n",
              "std        NaN             NaN  ...               38.138781            38.439409\n",
              "min        NaN             NaN  ...                0.000000             0.000000\n",
              "25%        NaN             NaN  ...                0.000000             0.000000\n",
              "50%        NaN             NaN  ...                0.000000             0.000000\n",
              "75%        NaN             NaN  ...               12.000000            13.000000\n",
              "max        NaN             NaN  ...             1592.000000          1584.000000\n",
              "\n",
              "[11 rows x 8 columns]"
            ]
          },
          "metadata": {}
        },
        {
          "output_type": "display_data",
          "data": {
            "text/html": [
              "<div>\n",
              "<style scoped>\n",
              "    .dataframe tbody tr th:only-of-type {\n",
              "        vertical-align: middle;\n",
              "    }\n",
              "\n",
              "    .dataframe tbody tr th {\n",
              "        vertical-align: top;\n",
              "    }\n",
              "\n",
              "    .dataframe thead th {\n",
              "        text-align: right;\n",
              "    }\n",
              "</style>\n",
              "<table border=\"1\" class=\"dataframe\">\n",
              "  <thead>\n",
              "    <tr style=\"text-align: right;\">\n",
              "      <th></th>\n",
              "      <th>Gender</th>\n",
              "      <th>CustomerType</th>\n",
              "      <th>Age</th>\n",
              "      <th>TypeTravel</th>\n",
              "      <th>Travel_Class</th>\n",
              "      <th>Travel_Distance</th>\n",
              "      <th>DepartureDelay_in_Mins</th>\n",
              "      <th>ArrivalDelay_in_Mins</th>\n",
              "    </tr>\n",
              "  </thead>\n",
              "  <tbody>\n",
              "    <tr>\n",
              "      <th>count</th>\n",
              "      <td>35572</td>\n",
              "      <td>32219</td>\n",
              "      <td>35591.000000</td>\n",
              "      <td>32154</td>\n",
              "      <td>35602</td>\n",
              "      <td>35602.000000</td>\n",
              "      <td>35573.000000</td>\n",
              "      <td>35479.000000</td>\n",
              "    </tr>\n",
              "    <tr>\n",
              "      <th>unique</th>\n",
              "      <td>2</td>\n",
              "      <td>2</td>\n",
              "      <td>NaN</td>\n",
              "      <td>2</td>\n",
              "      <td>2</td>\n",
              "      <td>NaN</td>\n",
              "      <td>NaN</td>\n",
              "      <td>NaN</td>\n",
              "    </tr>\n",
              "    <tr>\n",
              "      <th>top</th>\n",
              "      <td>Female</td>\n",
              "      <td>Loyal Customer</td>\n",
              "      <td>NaN</td>\n",
              "      <td>Business travel</td>\n",
              "      <td>Eco</td>\n",
              "      <td>NaN</td>\n",
              "      <td>NaN</td>\n",
              "      <td>NaN</td>\n",
              "    </tr>\n",
              "    <tr>\n",
              "      <th>freq</th>\n",
              "      <td>18069</td>\n",
              "      <td>26349</td>\n",
              "      <td>NaN</td>\n",
              "      <td>22313</td>\n",
              "      <td>18473</td>\n",
              "      <td>NaN</td>\n",
              "      <td>NaN</td>\n",
              "      <td>NaN</td>\n",
              "    </tr>\n",
              "    <tr>\n",
              "      <th>mean</th>\n",
              "      <td>NaN</td>\n",
              "      <td>NaN</td>\n",
              "      <td>39.446995</td>\n",
              "      <td>NaN</td>\n",
              "      <td>NaN</td>\n",
              "      <td>1987.151761</td>\n",
              "      <td>14.880696</td>\n",
              "      <td>15.308802</td>\n",
              "    </tr>\n",
              "    <tr>\n",
              "      <th>std</th>\n",
              "      <td>NaN</td>\n",
              "      <td>NaN</td>\n",
              "      <td>15.137554</td>\n",
              "      <td>NaN</td>\n",
              "      <td>NaN</td>\n",
              "      <td>1024.308863</td>\n",
              "      <td>37.895453</td>\n",
              "      <td>38.531293</td>\n",
              "    </tr>\n",
              "    <tr>\n",
              "      <th>min</th>\n",
              "      <td>NaN</td>\n",
              "      <td>NaN</td>\n",
              "      <td>7.000000</td>\n",
              "      <td>NaN</td>\n",
              "      <td>NaN</td>\n",
              "      <td>50.000000</td>\n",
              "      <td>0.000000</td>\n",
              "      <td>0.000000</td>\n",
              "    </tr>\n",
              "    <tr>\n",
              "      <th>25%</th>\n",
              "      <td>NaN</td>\n",
              "      <td>NaN</td>\n",
              "      <td>27.000000</td>\n",
              "      <td>NaN</td>\n",
              "      <td>NaN</td>\n",
              "      <td>1360.000000</td>\n",
              "      <td>0.000000</td>\n",
              "      <td>0.000000</td>\n",
              "    </tr>\n",
              "    <tr>\n",
              "      <th>50%</th>\n",
              "      <td>NaN</td>\n",
              "      <td>NaN</td>\n",
              "      <td>40.000000</td>\n",
              "      <td>NaN</td>\n",
              "      <td>NaN</td>\n",
              "      <td>1929.000000</td>\n",
              "      <td>0.000000</td>\n",
              "      <td>0.000000</td>\n",
              "    </tr>\n",
              "    <tr>\n",
              "      <th>75%</th>\n",
              "      <td>NaN</td>\n",
              "      <td>NaN</td>\n",
              "      <td>51.000000</td>\n",
              "      <td>NaN</td>\n",
              "      <td>NaN</td>\n",
              "      <td>2559.000000</td>\n",
              "      <td>13.000000</td>\n",
              "      <td>13.000000</td>\n",
              "    </tr>\n",
              "    <tr>\n",
              "      <th>max</th>\n",
              "      <td>NaN</td>\n",
              "      <td>NaN</td>\n",
              "      <td>85.000000</td>\n",
              "      <td>NaN</td>\n",
              "      <td>NaN</td>\n",
              "      <td>6868.000000</td>\n",
              "      <td>978.000000</td>\n",
              "      <td>970.000000</td>\n",
              "    </tr>\n",
              "  </tbody>\n",
              "</table>\n",
              "</div>"
            ],
            "text/plain": [
              "        Gender    CustomerType  ...  DepartureDelay_in_Mins ArrivalDelay_in_Mins\n",
              "count    35572           32219  ...            35573.000000         35479.000000\n",
              "unique       2               2  ...                     NaN                  NaN\n",
              "top     Female  Loyal Customer  ...                     NaN                  NaN\n",
              "freq     18069           26349  ...                     NaN                  NaN\n",
              "mean       NaN             NaN  ...               14.880696            15.308802\n",
              "std        NaN             NaN  ...               37.895453            38.531293\n",
              "min        NaN             NaN  ...                0.000000             0.000000\n",
              "25%        NaN             NaN  ...                0.000000             0.000000\n",
              "50%        NaN             NaN  ...                0.000000             0.000000\n",
              "75%        NaN             NaN  ...               13.000000            13.000000\n",
              "max        NaN             NaN  ...              978.000000           970.000000\n",
              "\n",
              "[11 rows x 8 columns]"
            ]
          },
          "metadata": {}
        }
      ]
    },
    {
      "cell_type": "code",
      "metadata": {
        "colab": {
          "base_uri": "https://localhost:8080/",
          "height": 376
        },
        "id": "5QKH8W8tNygv",
        "outputId": "4c6d5780-c85c-48a9-a034-aea0f404825b"
      },
      "source": [
        "display(travel_df.isna().sum())\n",
        "display(travel_df_test.isna().sum())"
      ],
      "execution_count": 9,
      "outputs": [
        {
          "output_type": "display_data",
          "data": {
            "text/plain": [
              "ID                           0\n",
              "Gender                      77\n",
              "CustomerType              8951\n",
              "Age                         33\n",
              "TypeTravel                9226\n",
              "Travel_Class                 0\n",
              "Travel_Distance              0\n",
              "DepartureDelay_in_Mins      57\n",
              "ArrivalDelay_in_Mins       357\n",
              "dtype: int64"
            ]
          },
          "metadata": {}
        },
        {
          "output_type": "display_data",
          "data": {
            "text/plain": [
              "ID                           0\n",
              "Gender                      30\n",
              "CustomerType              3383\n",
              "Age                         11\n",
              "TypeTravel                3448\n",
              "Travel_Class                 0\n",
              "Travel_Distance              0\n",
              "DepartureDelay_in_Mins      29\n",
              "ArrivalDelay_in_Mins       123\n",
              "dtype: int64"
            ]
          },
          "metadata": {}
        }
      ]
    },
    {
      "cell_type": "code",
      "metadata": {
        "colab": {
          "base_uri": "https://localhost:8080/",
          "height": 726
        },
        "id": "WOoTWPCJN3D_",
        "outputId": "335a52c5-a5dc-461d-8e84-fe7c56a4b5b4"
      },
      "source": [
        "sns.pairplot(travel_df.iloc[:,1:9], corner= True, hue = 'CustomerType')\n",
        "plt.show()"
      ],
      "execution_count": 10,
      "outputs": [
        {
          "output_type": "display_data",
          "data": {
            "image/png": "[encoded data removed]",
            "text/plain": [
              "<Figure size 845.625x720 with 14 Axes>"
            ]
          },
          "metadata": {
            "needs_background": "light"
          }
        }
      ]
    },
    {
      "cell_type": "code",
      "metadata": {
        "colab": {
          "base_uri": "https://localhost:8080/",
          "height": 726
        },
        "id": "uadN-plXOKnh",
        "outputId": "25ea0de8-f204-4b85-ff82-47a3857335bb"
      },
      "source": [
        "\n",
        "sns.pairplot(travel_df_test.iloc[:,1:9], corner= True, hue = 'CustomerType')\n",
        "plt.show()"
      ],
      "execution_count": 11,
      "outputs": [
        {
          "output_type": "display_data",
          "data": {
            "image/png": "[encoded data removed]",
            "text/plain": [
              "<Figure size 845.625x720 with 14 Axes>"
            ]
          },
          "metadata": {
            "needs_background": "light"
          }
        }
      ]
    },
    {
      "cell_type": "code",
      "metadata": {
        "colab": {
          "base_uri": "https://localhost:8080/",
          "height": 726
        },
        "id": "6be4Yo8ePSNn",
        "outputId": "e3ace3f5-8a8d-4031-f896-79ae3f894613"
      },
      "source": [
        "\n",
        "sns.pairplot(travel_df_test.iloc[:,1:9], corner= True, hue = 'CustomerType')\n",
        "plt.show()"
      ],
      "execution_count": 12,
      "outputs": [
        {
          "output_type": "display_data",
          "data": {
            "image/png": "[encoded data removed]",
            "text/plain": [
              "<Figure size 845.625x720 with 14 Axes>"
            ]
          },
          "metadata": {
            "needs_background": "light"
          }
        }
      ]
    },
    {
      "cell_type": "code",
      "metadata": {
        "colab": {
          "base_uri": "https://localhost:8080/",
          "height": 265
        },
        "id": "JUlQekjRQuV1",
        "outputId": "858ef09f-511b-46cf-f6b2-d47a30fe4485"
      },
      "source": [
        "travel_df.boxplot('Travel_Distance')\n",
        "plt.show()"
      ],
      "execution_count": 13,
      "outputs": [
        {
          "output_type": "display_data",
          "data": {
            "image/png": "[encoded data removed]",
            "text/plain": [
              "<Figure size 432x288 with 1 Axes>"
            ]
          },
          "metadata": {
            "needs_background": "light"
          }
        }
      ]
    },
    {
      "cell_type": "code",
      "metadata": {
        "colab": {
          "base_uri": "https://localhost:8080/",
          "height": 570
        },
        "id": "1Zr7q4T3S0iF",
        "outputId": "f4cf6ab3-4ecf-4cbb-cece-36099147ada4"
      },
      "source": [
        "\n",
        "#merging the two datasets\n",
        "\n",
        "merged_df = pd.merge(survey_df, travel_df, on= 'ID')\n",
        "display(merged_df.head())\n",
        "\n",
        "merged_df_test = pd.merge(survey_df_test, travel_df_test, on= 'ID')\n",
        "display(merged_df_test.head())"
      ],
      "execution_count": 14,
      "outputs": [
        {
          "output_type": "display_data",
          "data": {
            "text/html": [
              "<div>\n",
              "<style scoped>\n",
              "    .dataframe tbody tr th:only-of-type {\n",
              "        vertical-align: middle;\n",
              "    }\n",
              "\n",
              "    .dataframe tbody tr th {\n",
              "        vertical-align: top;\n",
              "    }\n",
              "\n",
              "    .dataframe thead th {\n",
              "        text-align: right;\n",
              "    }\n",
              "</style>\n",
              "<table border=\"1\" class=\"dataframe\">\n",
              "  <thead>\n",
              "    <tr style=\"text-align: right;\">\n",
              "      <th></th>\n",
              "      <th>ID</th>\n",
              "      <th>Overall_Experience</th>\n",
              "      <th>Seat_comfort</th>\n",
              "      <th>Seat_Class</th>\n",
              "      <th>Arrival_time_convenient</th>\n",
              "      <th>Catering</th>\n",
              "      <th>Platform_location</th>\n",
              "      <th>Onboardwifi_service</th>\n",
              "      <th>Onboard_entertainment</th>\n",
              "      <th>Online_support</th>\n",
              "      <th>Onlinebooking_Ease</th>\n",
              "      <th>Onboard_service</th>\n",
              "      <th>Leg_room</th>\n",
              "      <th>Baggage_handling</th>\n",
              "      <th>Checkin_service</th>\n",
              "      <th>Cleanliness</th>\n",
              "      <th>Online_boarding</th>\n",
              "      <th>Gender</th>\n",
              "      <th>CustomerType</th>\n",
              "      <th>Age</th>\n",
              "      <th>TypeTravel</th>\n",
              "      <th>Travel_Class</th>\n",
              "      <th>Travel_Distance</th>\n",
              "      <th>DepartureDelay_in_Mins</th>\n",
              "      <th>ArrivalDelay_in_Mins</th>\n",
              "    </tr>\n",
              "  </thead>\n",
              "  <tbody>\n",
              "    <tr>\n",
              "      <th>0</th>\n",
              "      <td>98800001</td>\n",
              "      <td>0</td>\n",
              "      <td>need improvement</td>\n",
              "      <td>Green Car</td>\n",
              "      <td>excellent</td>\n",
              "      <td>excellent</td>\n",
              "      <td>very convinient</td>\n",
              "      <td>good</td>\n",
              "      <td>need improvement</td>\n",
              "      <td>acceptable</td>\n",
              "      <td>need improvement</td>\n",
              "      <td>need improvement</td>\n",
              "      <td>acceptable</td>\n",
              "      <td>need improvement</td>\n",
              "      <td>good</td>\n",
              "      <td>need improvement</td>\n",
              "      <td>poor</td>\n",
              "      <td>Female</td>\n",
              "      <td>Loyal Customer</td>\n",
              "      <td>52.0</td>\n",
              "      <td>NaN</td>\n",
              "      <td>Business</td>\n",
              "      <td>272</td>\n",
              "      <td>0.0</td>\n",
              "      <td>5.0</td>\n",
              "    </tr>\n",
              "    <tr>\n",
              "      <th>1</th>\n",
              "      <td>98800002</td>\n",
              "      <td>0</td>\n",
              "      <td>poor</td>\n",
              "      <td>Ordinary</td>\n",
              "      <td>excellent</td>\n",
              "      <td>poor</td>\n",
              "      <td>need improvement</td>\n",
              "      <td>good</td>\n",
              "      <td>poor</td>\n",
              "      <td>good</td>\n",
              "      <td>good</td>\n",
              "      <td>excellent</td>\n",
              "      <td>need improvement</td>\n",
              "      <td>poor</td>\n",
              "      <td>need improvement</td>\n",
              "      <td>good</td>\n",
              "      <td>good</td>\n",
              "      <td>Male</td>\n",
              "      <td>Loyal Customer</td>\n",
              "      <td>48.0</td>\n",
              "      <td>Personal Travel</td>\n",
              "      <td>Eco</td>\n",
              "      <td>2200</td>\n",
              "      <td>9.0</td>\n",
              "      <td>0.0</td>\n",
              "    </tr>\n",
              "    <tr>\n",
              "      <th>2</th>\n",
              "      <td>98800003</td>\n",
              "      <td>1</td>\n",
              "      <td>need improvement</td>\n",
              "      <td>Green Car</td>\n",
              "      <td>need improvement</td>\n",
              "      <td>need improvement</td>\n",
              "      <td>need improvement</td>\n",
              "      <td>need improvement</td>\n",
              "      <td>good</td>\n",
              "      <td>excellent</td>\n",
              "      <td>excellent</td>\n",
              "      <td>excellent</td>\n",
              "      <td>excellent</td>\n",
              "      <td>excellent</td>\n",
              "      <td>good</td>\n",
              "      <td>excellent</td>\n",
              "      <td>excellent</td>\n",
              "      <td>Female</td>\n",
              "      <td>Loyal Customer</td>\n",
              "      <td>43.0</td>\n",
              "      <td>Business travel</td>\n",
              "      <td>Business</td>\n",
              "      <td>1061</td>\n",
              "      <td>77.0</td>\n",
              "      <td>119.0</td>\n",
              "    </tr>\n",
              "    <tr>\n",
              "      <th>3</th>\n",
              "      <td>98800004</td>\n",
              "      <td>0</td>\n",
              "      <td>acceptable</td>\n",
              "      <td>Ordinary</td>\n",
              "      <td>need improvement</td>\n",
              "      <td>NaN</td>\n",
              "      <td>need improvement</td>\n",
              "      <td>acceptable</td>\n",
              "      <td>need improvement</td>\n",
              "      <td>acceptable</td>\n",
              "      <td>acceptable</td>\n",
              "      <td>acceptable</td>\n",
              "      <td>acceptable</td>\n",
              "      <td>acceptable</td>\n",
              "      <td>good</td>\n",
              "      <td>acceptable</td>\n",
              "      <td>acceptable</td>\n",
              "      <td>Female</td>\n",
              "      <td>Loyal Customer</td>\n",
              "      <td>44.0</td>\n",
              "      <td>Business travel</td>\n",
              "      <td>Business</td>\n",
              "      <td>780</td>\n",
              "      <td>13.0</td>\n",
              "      <td>18.0</td>\n",
              "    </tr>\n",
              "    <tr>\n",
              "      <th>4</th>\n",
              "      <td>98800005</td>\n",
              "      <td>1</td>\n",
              "      <td>acceptable</td>\n",
              "      <td>Ordinary</td>\n",
              "      <td>acceptable</td>\n",
              "      <td>acceptable</td>\n",
              "      <td>manageable</td>\n",
              "      <td>need improvement</td>\n",
              "      <td>good</td>\n",
              "      <td>excellent</td>\n",
              "      <td>good</td>\n",
              "      <td>good</td>\n",
              "      <td>good</td>\n",
              "      <td>good</td>\n",
              "      <td>good</td>\n",
              "      <td>good</td>\n",
              "      <td>good</td>\n",
              "      <td>Female</td>\n",
              "      <td>Loyal Customer</td>\n",
              "      <td>50.0</td>\n",
              "      <td>Business travel</td>\n",
              "      <td>Business</td>\n",
              "      <td>1981</td>\n",
              "      <td>0.0</td>\n",
              "      <td>0.0</td>\n",
              "    </tr>\n",
              "  </tbody>\n",
              "</table>\n",
              "</div>"
            ],
            "text/plain": [
              "         ID  Overall_Experience  ... DepartureDelay_in_Mins ArrivalDelay_in_Mins\n",
              "0  98800001                   0  ...                    0.0                  5.0\n",
              "1  98800002                   0  ...                    9.0                  0.0\n",
              "2  98800003                   1  ...                   77.0                119.0\n",
              "3  98800004                   0  ...                   13.0                 18.0\n",
              "4  98800005                   1  ...                    0.0                  0.0\n",
              "\n",
              "[5 rows x 25 columns]"
            ]
          },
          "metadata": {}
        },
        {
          "output_type": "display_data",
          "data": {
            "text/html": [
              "<div>\n",
              "<style scoped>\n",
              "    .dataframe tbody tr th:only-of-type {\n",
              "        vertical-align: middle;\n",
              "    }\n",
              "\n",
              "    .dataframe tbody tr th {\n",
              "        vertical-align: top;\n",
              "    }\n",
              "\n",
              "    .dataframe thead th {\n",
              "        text-align: right;\n",
              "    }\n",
              "</style>\n",
              "<table border=\"1\" class=\"dataframe\">\n",
              "  <thead>\n",
              "    <tr style=\"text-align: right;\">\n",
              "      <th></th>\n",
              "      <th>ID</th>\n",
              "      <th>Seat_comfort</th>\n",
              "      <th>Seat_Class</th>\n",
              "      <th>Arrival_time_convenient</th>\n",
              "      <th>Catering</th>\n",
              "      <th>Platform_location</th>\n",
              "      <th>Onboardwifi_service</th>\n",
              "      <th>Onboard_entertainment</th>\n",
              "      <th>Online_support</th>\n",
              "      <th>Onlinebooking_Ease</th>\n",
              "      <th>Onboard_service</th>\n",
              "      <th>Leg_room</th>\n",
              "      <th>Baggage_handling</th>\n",
              "      <th>Checkin_service</th>\n",
              "      <th>Cleanliness</th>\n",
              "      <th>Online_boarding</th>\n",
              "      <th>Gender</th>\n",
              "      <th>CustomerType</th>\n",
              "      <th>Age</th>\n",
              "      <th>TypeTravel</th>\n",
              "      <th>Travel_Class</th>\n",
              "      <th>Travel_Distance</th>\n",
              "      <th>DepartureDelay_in_Mins</th>\n",
              "      <th>ArrivalDelay_in_Mins</th>\n",
              "    </tr>\n",
              "  </thead>\n",
              "  <tbody>\n",
              "    <tr>\n",
              "      <th>0</th>\n",
              "      <td>99900001</td>\n",
              "      <td>acceptable</td>\n",
              "      <td>Green Car</td>\n",
              "      <td>acceptable</td>\n",
              "      <td>acceptable</td>\n",
              "      <td>manageable</td>\n",
              "      <td>need improvement</td>\n",
              "      <td>excellent</td>\n",
              "      <td>good</td>\n",
              "      <td>excellent</td>\n",
              "      <td>excellent</td>\n",
              "      <td>excellent</td>\n",
              "      <td>excellent</td>\n",
              "      <td>good</td>\n",
              "      <td>excellent</td>\n",
              "      <td>poor</td>\n",
              "      <td>Female</td>\n",
              "      <td>NaN</td>\n",
              "      <td>36.0</td>\n",
              "      <td>Business travel</td>\n",
              "      <td>Business</td>\n",
              "      <td>532</td>\n",
              "      <td>0.0</td>\n",
              "      <td>0.0</td>\n",
              "    </tr>\n",
              "    <tr>\n",
              "      <th>1</th>\n",
              "      <td>99900002</td>\n",
              "      <td>extremely poor</td>\n",
              "      <td>Ordinary</td>\n",
              "      <td>good</td>\n",
              "      <td>poor</td>\n",
              "      <td>manageable</td>\n",
              "      <td>acceptable</td>\n",
              "      <td>poor</td>\n",
              "      <td>acceptable</td>\n",
              "      <td>acceptable</td>\n",
              "      <td>excellent</td>\n",
              "      <td>acceptable</td>\n",
              "      <td>good</td>\n",
              "      <td>acceptable</td>\n",
              "      <td>excellent</td>\n",
              "      <td>acceptable</td>\n",
              "      <td>Female</td>\n",
              "      <td>disloyal Customer</td>\n",
              "      <td>21.0</td>\n",
              "      <td>Business travel</td>\n",
              "      <td>Business</td>\n",
              "      <td>1425</td>\n",
              "      <td>9.0</td>\n",
              "      <td>28.0</td>\n",
              "    </tr>\n",
              "    <tr>\n",
              "      <th>2</th>\n",
              "      <td>99900003</td>\n",
              "      <td>excellent</td>\n",
              "      <td>Ordinary</td>\n",
              "      <td>excellent</td>\n",
              "      <td>excellent</td>\n",
              "      <td>very convinient</td>\n",
              "      <td>excellent</td>\n",
              "      <td>excellent</td>\n",
              "      <td>excellent</td>\n",
              "      <td>need improvement</td>\n",
              "      <td>need improvement</td>\n",
              "      <td>need improvement</td>\n",
              "      <td>need improvement</td>\n",
              "      <td>good</td>\n",
              "      <td>need improvement</td>\n",
              "      <td>excellent</td>\n",
              "      <td>Male</td>\n",
              "      <td>Loyal Customer</td>\n",
              "      <td>60.0</td>\n",
              "      <td>Business travel</td>\n",
              "      <td>Business</td>\n",
              "      <td>2832</td>\n",
              "      <td>0.0</td>\n",
              "      <td>0.0</td>\n",
              "    </tr>\n",
              "    <tr>\n",
              "      <th>3</th>\n",
              "      <td>99900004</td>\n",
              "      <td>acceptable</td>\n",
              "      <td>Green Car</td>\n",
              "      <td>excellent</td>\n",
              "      <td>acceptable</td>\n",
              "      <td>very convinient</td>\n",
              "      <td>poor</td>\n",
              "      <td>acceptable</td>\n",
              "      <td>excellent</td>\n",
              "      <td>poor</td>\n",
              "      <td>acceptable</td>\n",
              "      <td>need improvement</td>\n",
              "      <td>excellent</td>\n",
              "      <td>excellent</td>\n",
              "      <td>excellent</td>\n",
              "      <td>poor</td>\n",
              "      <td>Female</td>\n",
              "      <td>Loyal Customer</td>\n",
              "      <td>29.0</td>\n",
              "      <td>Personal Travel</td>\n",
              "      <td>Eco</td>\n",
              "      <td>1352</td>\n",
              "      <td>0.0</td>\n",
              "      <td>0.0</td>\n",
              "    </tr>\n",
              "    <tr>\n",
              "      <th>4</th>\n",
              "      <td>99900005</td>\n",
              "      <td>excellent</td>\n",
              "      <td>Ordinary</td>\n",
              "      <td>extremely poor</td>\n",
              "      <td>excellent</td>\n",
              "      <td>need improvement</td>\n",
              "      <td>excellent</td>\n",
              "      <td>excellent</td>\n",
              "      <td>excellent</td>\n",
              "      <td>excellent</td>\n",
              "      <td>NaN</td>\n",
              "      <td>acceptable</td>\n",
              "      <td>excellent</td>\n",
              "      <td>excellent</td>\n",
              "      <td>excellent</td>\n",
              "      <td>excellent</td>\n",
              "      <td>Male</td>\n",
              "      <td>disloyal Customer</td>\n",
              "      <td>18.0</td>\n",
              "      <td>Business travel</td>\n",
              "      <td>Business</td>\n",
              "      <td>1610</td>\n",
              "      <td>17.0</td>\n",
              "      <td>0.0</td>\n",
              "    </tr>\n",
              "  </tbody>\n",
              "</table>\n",
              "</div>"
            ],
            "text/plain": [
              "         ID    Seat_comfort  ... DepartureDelay_in_Mins ArrivalDelay_in_Mins\n",
              "0  99900001      acceptable  ...                    0.0                  0.0\n",
              "1  99900002  extremely poor  ...                    9.0                 28.0\n",
              "2  99900003       excellent  ...                    0.0                  0.0\n",
              "3  99900004      acceptable  ...                    0.0                  0.0\n",
              "4  99900005       excellent  ...                   17.0                  0.0\n",
              "\n",
              "[5 rows x 24 columns]"
            ]
          },
          "metadata": {}
        }
      ]
    },
    {
      "cell_type": "code",
      "metadata": {
        "colab": {
          "base_uri": "https://localhost:8080/",
          "height": 1000
        },
        "id": "ADHMHkuDUAxx",
        "outputId": "9adbd62e-a5fd-4b5c-95d2-1c5ce7457ea9"
      },
      "source": [
        "display(merged_df.info())\n",
        "display(merged_df_test.info())"
      ],
      "execution_count": 15,
      "outputs": [
        {
          "output_type": "stream",
          "name": "stdout",
          "text": [
            "<class 'pandas.core.frame.DataFrame'>\n",
            "Int64Index: 94379 entries, 0 to 94378\n",
            "Data columns (total 25 columns):\n",
            " #   Column                   Non-Null Count  Dtype  \n",
            "---  ------                   --------------  -----  \n",
            " 0   ID                       94379 non-null  int64  \n",
            " 1   Overall_Experience       94379 non-null  int64  \n",
            " 2   Seat_comfort             94318 non-null  object \n",
            " 3   Seat_Class               94379 non-null  object \n",
            " 4   Arrival_time_convenient  85449 non-null  object \n",
            " 5   Catering                 85638 non-null  object \n",
            " 6   Platform_location        94349 non-null  object \n",
            " 7   Onboardwifi_service      94349 non-null  object \n",
            " 8   Onboard_entertainment    94361 non-null  object \n",
            " 9   Online_support           94288 non-null  object \n",
            " 10  Onlinebooking_Ease       94306 non-null  object \n",
            " 11  Onboard_service          86778 non-null  object \n",
            " 12  Leg_room                 94289 non-null  object \n",
            " 13  Baggage_handling         94237 non-null  object \n",
            " 14  Checkin_service          94302 non-null  object \n",
            " 15  Cleanliness              94373 non-null  object \n",
            " 16  Online_boarding          94373 non-null  object \n",
            " 17  Gender                   94302 non-null  object \n",
            " 18  CustomerType             85428 non-null  object \n",
            " 19  Age                      94346 non-null  float64\n",
            " 20  TypeTravel               85153 non-null  object \n",
            " 21  Travel_Class             94379 non-null  object \n",
            " 22  Travel_Distance          94379 non-null  int64  \n",
            " 23  DepartureDelay_in_Mins   94322 non-null  float64\n",
            " 24  ArrivalDelay_in_Mins     94022 non-null  float64\n",
            "dtypes: float64(3), int64(3), object(19)\n",
            "memory usage: 18.7+ MB\n"
          ]
        },
        {
          "output_type": "display_data",
          "data": {
            "text/plain": [
              "None"
            ]
          },
          "metadata": {}
        },
        {
          "output_type": "stream",
          "name": "stdout",
          "text": [
            "<class 'pandas.core.frame.DataFrame'>\n",
            "Int64Index: 35602 entries, 0 to 35601\n",
            "Data columns (total 24 columns):\n",
            " #   Column                   Non-Null Count  Dtype  \n",
            "---  ------                   --------------  -----  \n",
            " 0   ID                       35602 non-null  int64  \n",
            " 1   Seat_comfort             35580 non-null  object \n",
            " 2   Seat_Class               35602 non-null  object \n",
            " 3   Arrival_time_convenient  32277 non-null  object \n",
            " 4   Catering                 32245 non-null  object \n",
            " 5   Platform_location        35590 non-null  object \n",
            " 6   Onboardwifi_service      35590 non-null  object \n",
            " 7   Onboard_entertainment    35594 non-null  object \n",
            " 8   Online_support           35576 non-null  object \n",
            " 9   Onlinebooking_Ease       35584 non-null  object \n",
            " 10  Onboard_service          32730 non-null  object \n",
            " 11  Leg_room                 35577 non-null  object \n",
            " 12  Baggage_handling         35562 non-null  object \n",
            " 13  Checkin_service          35580 non-null  object \n",
            " 14  Cleanliness              35600 non-null  object \n",
            " 15  Online_boarding          35600 non-null  object \n",
            " 16  Gender                   35572 non-null  object \n",
            " 17  CustomerType             32219 non-null  object \n",
            " 18  Age                      35591 non-null  float64\n",
            " 19  TypeTravel               32154 non-null  object \n",
            " 20  Travel_Class             35602 non-null  object \n",
            " 21  Travel_Distance          35602 non-null  int64  \n",
            " 22  DepartureDelay_in_Mins   35573 non-null  float64\n",
            " 23  ArrivalDelay_in_Mins     35479 non-null  float64\n",
            "dtypes: float64(3), int64(2), object(19)\n",
            "memory usage: 6.8+ MB\n"
          ]
        },
        {
          "output_type": "display_data",
          "data": {
            "text/plain": [
              "None"
            ]
          },
          "metadata": {}
        }
      ]
    },
    {
      "cell_type": "code",
      "metadata": {
        "colab": {
          "base_uri": "https://localhost:8080/",
          "height": 1000
        },
        "id": "lIPqZffuUT-8",
        "outputId": "118e8d3a-6e7f-45d0-a521-0ee269b07744"
      },
      "source": [
        "\n",
        "#missing value imputation in survey data\n",
        "\n",
        "display(merged_df[merged_df['Seat_comfort'].isna()])\n",
        "\n",
        "display(merged_df.groupby(['Seat_Class', 'Seat_comfort']).count()['ID'])\n",
        "display(merged_df_test.groupby(['Seat_Class', 'Seat_comfort']).count()['ID'])"
      ],
      "execution_count": 16,
      "outputs": [
        {
          "output_type": "display_data",
          "data": {
            "text/html": [
              "<div>\n",
              "<style scoped>\n",
              "    .dataframe tbody tr th:only-of-type {\n",
              "        vertical-align: middle;\n",
              "    }\n",
              "\n",
              "    .dataframe tbody tr th {\n",
              "        vertical-align: top;\n",
              "    }\n",
              "\n",
              "    .dataframe thead th {\n",
              "        text-align: right;\n",
              "    }\n",
              "</style>\n",
              "<table border=\"1\" class=\"dataframe\">\n",
              "  <thead>\n",
              "    <tr style=\"text-align: right;\">\n",
              "      <th></th>\n",
              "      <th>ID</th>\n",
              "      <th>Overall_Experience</th>\n",
              "      <th>Seat_comfort</th>\n",
              "      <th>Seat_Class</th>\n",
              "      <th>Arrival_time_convenient</th>\n",
              "      <th>Catering</th>\n",
              "      <th>Platform_location</th>\n",
              "      <th>Onboardwifi_service</th>\n",
              "      <th>Onboard_entertainment</th>\n",
              "      <th>Online_support</th>\n",
              "      <th>Onlinebooking_Ease</th>\n",
              "      <th>Onboard_service</th>\n",
              "      <th>Leg_room</th>\n",
              "      <th>Baggage_handling</th>\n",
              "      <th>Checkin_service</th>\n",
              "      <th>Cleanliness</th>\n",
              "      <th>Online_boarding</th>\n",
              "      <th>Gender</th>\n",
              "      <th>CustomerType</th>\n",
              "      <th>Age</th>\n",
              "      <th>TypeTravel</th>\n",
              "      <th>Travel_Class</th>\n",
              "      <th>Travel_Distance</th>\n",
              "      <th>DepartureDelay_in_Mins</th>\n",
              "      <th>ArrivalDelay_in_Mins</th>\n",
              "    </tr>\n",
              "  </thead>\n",
              "  <tbody>\n",
              "    <tr>\n",
              "      <th>560</th>\n",
              "      <td>98800561</td>\n",
              "      <td>0</td>\n",
              "      <td>NaN</td>\n",
              "      <td>Green Car</td>\n",
              "      <td>NaN</td>\n",
              "      <td>good</td>\n",
              "      <td>need improvement</td>\n",
              "      <td>good</td>\n",
              "      <td>good</td>\n",
              "      <td>good</td>\n",
              "      <td>good</td>\n",
              "      <td>need improvement</td>\n",
              "      <td>good</td>\n",
              "      <td>acceptable</td>\n",
              "      <td>poor</td>\n",
              "      <td>acceptable</td>\n",
              "      <td>good</td>\n",
              "      <td>Male</td>\n",
              "      <td>Loyal Customer</td>\n",
              "      <td>30.0</td>\n",
              "      <td>Business travel</td>\n",
              "      <td>Eco</td>\n",
              "      <td>1495</td>\n",
              "      <td>0.0</td>\n",
              "      <td>0.0</td>\n",
              "    </tr>\n",
              "    <tr>\n",
              "      <th>2214</th>\n",
              "      <td>98802215</td>\n",
              "      <td>1</td>\n",
              "      <td>NaN</td>\n",
              "      <td>Green Car</td>\n",
              "      <td>NaN</td>\n",
              "      <td>poor</td>\n",
              "      <td>manageable</td>\n",
              "      <td>good</td>\n",
              "      <td>good</td>\n",
              "      <td>good</td>\n",
              "      <td>good</td>\n",
              "      <td>NaN</td>\n",
              "      <td>NaN</td>\n",
              "      <td>NaN</td>\n",
              "      <td>good</td>\n",
              "      <td>excellent</td>\n",
              "      <td>good</td>\n",
              "      <td>Male</td>\n",
              "      <td>Loyal Customer</td>\n",
              "      <td>30.0</td>\n",
              "      <td>NaN</td>\n",
              "      <td>Business</td>\n",
              "      <td>4725</td>\n",
              "      <td>86.0</td>\n",
              "      <td>77.0</td>\n",
              "    </tr>\n",
              "    <tr>\n",
              "      <th>4754</th>\n",
              "      <td>98804755</td>\n",
              "      <td>0</td>\n",
              "      <td>NaN</td>\n",
              "      <td>Ordinary</td>\n",
              "      <td>NaN</td>\n",
              "      <td>need improvement</td>\n",
              "      <td>manageable</td>\n",
              "      <td>excellent</td>\n",
              "      <td>need improvement</td>\n",
              "      <td>poor</td>\n",
              "      <td>excellent</td>\n",
              "      <td>NaN</td>\n",
              "      <td>NaN</td>\n",
              "      <td>NaN</td>\n",
              "      <td>excellent</td>\n",
              "      <td>good</td>\n",
              "      <td>excellent</td>\n",
              "      <td>Male</td>\n",
              "      <td>Loyal Customer</td>\n",
              "      <td>63.0</td>\n",
              "      <td>Personal Travel</td>\n",
              "      <td>Eco</td>\n",
              "      <td>1380</td>\n",
              "      <td>0.0</td>\n",
              "      <td>0.0</td>\n",
              "    </tr>\n",
              "    <tr>\n",
              "      <th>5191</th>\n",
              "      <td>98805192</td>\n",
              "      <td>1</td>\n",
              "      <td>NaN</td>\n",
              "      <td>Green Car</td>\n",
              "      <td>NaN</td>\n",
              "      <td>acceptable</td>\n",
              "      <td>manageable</td>\n",
              "      <td>good</td>\n",
              "      <td>good</td>\n",
              "      <td>good</td>\n",
              "      <td>good</td>\n",
              "      <td>acceptable</td>\n",
              "      <td>excellent</td>\n",
              "      <td>good</td>\n",
              "      <td>good</td>\n",
              "      <td>acceptable</td>\n",
              "      <td>good</td>\n",
              "      <td>Male</td>\n",
              "      <td>NaN</td>\n",
              "      <td>33.0</td>\n",
              "      <td>Business travel</td>\n",
              "      <td>Business</td>\n",
              "      <td>1436</td>\n",
              "      <td>6.0</td>\n",
              "      <td>25.0</td>\n",
              "    </tr>\n",
              "    <tr>\n",
              "      <th>8809</th>\n",
              "      <td>98808810</td>\n",
              "      <td>1</td>\n",
              "      <td>NaN</td>\n",
              "      <td>Green Car</td>\n",
              "      <td>NaN</td>\n",
              "      <td>acceptable</td>\n",
              "      <td>manageable</td>\n",
              "      <td>good</td>\n",
              "      <td>good</td>\n",
              "      <td>good</td>\n",
              "      <td>need improvement</td>\n",
              "      <td>need improvement</td>\n",
              "      <td>need improvement</td>\n",
              "      <td>need improvement</td>\n",
              "      <td>acceptable</td>\n",
              "      <td>need improvement</td>\n",
              "      <td>good</td>\n",
              "      <td>Female</td>\n",
              "      <td>Loyal Customer</td>\n",
              "      <td>12.0</td>\n",
              "      <td>Personal Travel</td>\n",
              "      <td>Eco</td>\n",
              "      <td>3114</td>\n",
              "      <td>41.0</td>\n",
              "      <td>44.0</td>\n",
              "    </tr>\n",
              "    <tr>\n",
              "      <th>...</th>\n",
              "      <td>...</td>\n",
              "      <td>...</td>\n",
              "      <td>...</td>\n",
              "      <td>...</td>\n",
              "      <td>...</td>\n",
              "      <td>...</td>\n",
              "      <td>...</td>\n",
              "      <td>...</td>\n",
              "      <td>...</td>\n",
              "      <td>...</td>\n",
              "      <td>...</td>\n",
              "      <td>...</td>\n",
              "      <td>...</td>\n",
              "      <td>...</td>\n",
              "      <td>...</td>\n",
              "      <td>...</td>\n",
              "      <td>...</td>\n",
              "      <td>...</td>\n",
              "      <td>...</td>\n",
              "      <td>...</td>\n",
              "      <td>...</td>\n",
              "      <td>...</td>\n",
              "      <td>...</td>\n",
              "      <td>...</td>\n",
              "      <td>...</td>\n",
              "    </tr>\n",
              "    <tr>\n",
              "      <th>86883</th>\n",
              "      <td>98886884</td>\n",
              "      <td>0</td>\n",
              "      <td>NaN</td>\n",
              "      <td>Green Car</td>\n",
              "      <td>NaN</td>\n",
              "      <td>acceptable</td>\n",
              "      <td>manageable</td>\n",
              "      <td>need improvement</td>\n",
              "      <td>acceptable</td>\n",
              "      <td>need improvement</td>\n",
              "      <td>need improvement</td>\n",
              "      <td>good</td>\n",
              "      <td>acceptable</td>\n",
              "      <td>need improvement</td>\n",
              "      <td>good</td>\n",
              "      <td>good</td>\n",
              "      <td>need improvement</td>\n",
              "      <td>Male</td>\n",
              "      <td>Loyal Customer</td>\n",
              "      <td>13.0</td>\n",
              "      <td>Personal Travel</td>\n",
              "      <td>Eco</td>\n",
              "      <td>2188</td>\n",
              "      <td>4.0</td>\n",
              "      <td>0.0</td>\n",
              "    </tr>\n",
              "    <tr>\n",
              "      <th>87693</th>\n",
              "      <td>98887694</td>\n",
              "      <td>0</td>\n",
              "      <td>NaN</td>\n",
              "      <td>Green Car</td>\n",
              "      <td>NaN</td>\n",
              "      <td>excellent</td>\n",
              "      <td>very convinient</td>\n",
              "      <td>need improvement</td>\n",
              "      <td>need improvement</td>\n",
              "      <td>need improvement</td>\n",
              "      <td>need improvement</td>\n",
              "      <td>NaN</td>\n",
              "      <td>NaN</td>\n",
              "      <td>NaN</td>\n",
              "      <td>acceptable</td>\n",
              "      <td>acceptable</td>\n",
              "      <td>need improvement</td>\n",
              "      <td>Female</td>\n",
              "      <td>Loyal Customer</td>\n",
              "      <td>40.0</td>\n",
              "      <td>Business travel</td>\n",
              "      <td>Eco</td>\n",
              "      <td>2361</td>\n",
              "      <td>0.0</td>\n",
              "      <td>0.0</td>\n",
              "    </tr>\n",
              "    <tr>\n",
              "      <th>88765</th>\n",
              "      <td>98888766</td>\n",
              "      <td>0</td>\n",
              "      <td>NaN</td>\n",
              "      <td>Green Car</td>\n",
              "      <td>NaN</td>\n",
              "      <td>acceptable</td>\n",
              "      <td>Convinient</td>\n",
              "      <td>need improvement</td>\n",
              "      <td>acceptable</td>\n",
              "      <td>poor</td>\n",
              "      <td>need improvement</td>\n",
              "      <td>NaN</td>\n",
              "      <td>NaN</td>\n",
              "      <td>NaN</td>\n",
              "      <td>need improvement</td>\n",
              "      <td>acceptable</td>\n",
              "      <td>need improvement</td>\n",
              "      <td>Female</td>\n",
              "      <td>disloyal Customer</td>\n",
              "      <td>49.0</td>\n",
              "      <td>Business travel</td>\n",
              "      <td>Eco</td>\n",
              "      <td>1788</td>\n",
              "      <td>22.0</td>\n",
              "      <td>18.0</td>\n",
              "    </tr>\n",
              "    <tr>\n",
              "      <th>90800</th>\n",
              "      <td>98890801</td>\n",
              "      <td>0</td>\n",
              "      <td>NaN</td>\n",
              "      <td>Ordinary</td>\n",
              "      <td>NaN</td>\n",
              "      <td>excellent</td>\n",
              "      <td>need improvement</td>\n",
              "      <td>acceptable</td>\n",
              "      <td>acceptable</td>\n",
              "      <td>acceptable</td>\n",
              "      <td>acceptable</td>\n",
              "      <td>NaN</td>\n",
              "      <td>excellent</td>\n",
              "      <td>acceptable</td>\n",
              "      <td>acceptable</td>\n",
              "      <td>good</td>\n",
              "      <td>acceptable</td>\n",
              "      <td>Male</td>\n",
              "      <td>Loyal Customer</td>\n",
              "      <td>37.0</td>\n",
              "      <td>Business travel</td>\n",
              "      <td>Eco</td>\n",
              "      <td>1528</td>\n",
              "      <td>76.0</td>\n",
              "      <td>56.0</td>\n",
              "    </tr>\n",
              "    <tr>\n",
              "      <th>93674</th>\n",
              "      <td>98893675</td>\n",
              "      <td>1</td>\n",
              "      <td>NaN</td>\n",
              "      <td>Green Car</td>\n",
              "      <td>NaN</td>\n",
              "      <td>acceptable</td>\n",
              "      <td>manageable</td>\n",
              "      <td>good</td>\n",
              "      <td>good</td>\n",
              "      <td>good</td>\n",
              "      <td>good</td>\n",
              "      <td>need improvement</td>\n",
              "      <td>acceptable</td>\n",
              "      <td>good</td>\n",
              "      <td>poor</td>\n",
              "      <td>need improvement</td>\n",
              "      <td>good</td>\n",
              "      <td>Male</td>\n",
              "      <td>Loyal Customer</td>\n",
              "      <td>48.0</td>\n",
              "      <td>Business travel</td>\n",
              "      <td>Eco</td>\n",
              "      <td>1315</td>\n",
              "      <td>0.0</td>\n",
              "      <td>0.0</td>\n",
              "    </tr>\n",
              "  </tbody>\n",
              "</table>\n",
              "<p>61 rows × 25 columns</p>\n",
              "</div>"
            ],
            "text/plain": [
              "             ID  ...  ArrivalDelay_in_Mins\n",
              "560    98800561  ...                   0.0\n",
              "2214   98802215  ...                  77.0\n",
              "4754   98804755  ...                   0.0\n",
              "5191   98805192  ...                  25.0\n",
              "8809   98808810  ...                  44.0\n",
              "...         ...  ...                   ...\n",
              "86883  98886884  ...                   0.0\n",
              "87693  98887694  ...                   0.0\n",
              "88765  98888766  ...                  18.0\n",
              "90800  98890801  ...                  56.0\n",
              "93674  98893675  ...                   0.0\n",
              "\n",
              "[61 rows x 25 columns]"
            ]
          },
          "metadata": {}
        },
        {
          "output_type": "display_data",
          "data": {
            "text/plain": [
              "Seat_Class  Seat_comfort    \n",
              "Green Car   acceptable          10604\n",
              "            excellent            6597\n",
              "            extremely poor       1733\n",
              "            good                10395\n",
              "            need improvement    10513\n",
              "            poor                 7563\n",
              "Ordinary    acceptable          10554\n",
              "            excellent            6374\n",
              "            extremely poor       1730\n",
              "            good                10200\n",
              "            need improvement    10433\n",
              "            poor                 7622\n",
              "Name: ID, dtype: int64"
            ]
          },
          "metadata": {}
        },
        {
          "output_type": "display_data",
          "data": {
            "text/plain": [
              "Seat_Class  Seat_comfort    \n",
              "Green Car   acceptable          3957\n",
              "            excellent           2367\n",
              "            extremely poor       648\n",
              "            good                3920\n",
              "            need improvement    3942\n",
              "            poor                2896\n",
              "Ordinary    acceptable          4046\n",
              "            excellent           2487\n",
              "            extremely poor       681\n",
              "            good                3888\n",
              "            need improvement    3889\n",
              "            poor                2859\n",
              "Name: ID, dtype: int64"
            ]
          },
          "metadata": {}
        }
      ]
    },
    {
      "cell_type": "markdown",
      "metadata": {
        "id": "0Qj6JUeNVWVa"
      },
      "source": [
        "\n",
        "Seat_comfort is a related field to Seat_Class, both types in Seat_Class has higest frequency for 'acceptable' so we are imputing acceptable for Nan"
      ]
    },
    {
      "cell_type": "code",
      "metadata": {
        "colab": {
          "base_uri": "https://localhost:8080/",
          "height": 52
        },
        "id": "XAo3UViBU43a",
        "outputId": "47bb8f8a-86f4-4d3f-a71b-2db8e89110c1"
      },
      "source": [
        "\n",
        "merged_df['Seat_comfort'].fillna('acceptable', inplace= True)\n",
        "display(merged_df['Seat_comfort'].isna().sum()) #imputing 'acceptable' value for 'NaN'\n",
        "\n",
        "merged_df_test['Seat_comfort'].fillna('acceptable', inplace= True)\n",
        "display(merged_df_test['Seat_comfort'].isna().sum()) #imputing 'acceptable' value for 'NaN'"
      ],
      "execution_count": 17,
      "outputs": [
        {
          "output_type": "display_data",
          "data": {
            "text/plain": [
              "0"
            ]
          },
          "metadata": {}
        },
        {
          "output_type": "display_data",
          "data": {
            "text/plain": [
              "0"
            ]
          },
          "metadata": {}
        }
      ]
    },
    {
      "cell_type": "code",
      "metadata": {
        "colab": {
          "base_uri": "https://localhost:8080/",
          "height": 556
        },
        "id": "6c0xs2O1Vd5q",
        "outputId": "0df109b5-8027-416c-beb5-3388db64219c"
      },
      "source": [
        "\n",
        "display(merged_df.groupby('Arrival_time_convenient').mean()['ArrivalDelay_in_Mins'])\n",
        "#display(merged_df[merged_df['Arrival_time_convenient'].isna()]['ArrivalDelay_in_Mins'])\n",
        "\n",
        "display(merged_df['Arrival_time_convenient'].value_counts())\n",
        "\n",
        "\n",
        "display(merged_df_test.groupby('Arrival_time_convenient').mean()['ArrivalDelay_in_Mins'])\n",
        "#display(merged_df[merged_df['Arrival_time_convenient'].isna()]['ArrivalDelay_in_Mins'])\n",
        "\n",
        "display(merged_df_test['Arrival_time_convenient'].value_counts())"
      ],
      "execution_count": 18,
      "outputs": [
        {
          "output_type": "display_data",
          "data": {
            "text/plain": [
              "Arrival_time_convenient\n",
              "acceptable          15.283059\n",
              "excellent           14.551372\n",
              "extremely poor      12.960593\n",
              "good                15.046130\n",
              "need improvement    15.595622\n",
              "poor                15.340761\n",
              "Name: ArrivalDelay_in_Mins, dtype: float64"
            ]
          },
          "metadata": {}
        },
        {
          "output_type": "display_data",
          "data": {
            "text/plain": [
              "good                19574\n",
              "excellent           17684\n",
              "acceptable          15177\n",
              "need improvement    14990\n",
              "poor                13692\n",
              "extremely poor       4332\n",
              "Name: Arrival_time_convenient, dtype: int64"
            ]
          },
          "metadata": {}
        },
        {
          "output_type": "display_data",
          "data": {
            "text/plain": [
              "Arrival_time_convenient\n",
              "acceptable          15.711809\n",
              "excellent           15.702209\n",
              "extremely poor      12.568510\n",
              "good                15.440278\n",
              "need improvement    15.620385\n",
              "poor                14.699961\n",
              "Name: ArrivalDelay_in_Mins, dtype: float64"
            ]
          },
          "metadata": {}
        },
        {
          "output_type": "display_data",
          "data": {
            "text/plain": [
              "good                7361\n",
              "excellent           6589\n",
              "acceptable          5844\n",
              "need improvement    5684\n",
              "poor                5131\n",
              "extremely poor      1668\n",
              "Name: Arrival_time_convenient, dtype: int64"
            ]
          },
          "metadata": {}
        }
      ]
    },
    {
      "cell_type": "markdown",
      "metadata": {
        "id": "taDJtTqkVn7A"
      },
      "source": [
        "\n",
        "Comparing Arrival_time_convinient variable with ArivalDelay_in_Min. The mean of ArivalDelay_in_Min remains same in most categories accept for 'extremely poor', cannot get much information out of it, So we impute most frequent class i.e good for Nan in Arrival_time_convinient"
      ]
    },
    {
      "cell_type": "code",
      "metadata": {
        "colab": {
          "base_uri": "https://localhost:8080/",
          "height": 52
        },
        "id": "wxgG0MwyVxxe",
        "outputId": "01b931ff-8679-4ae2-ec2a-d1fef368e37c"
      },
      "source": [
        "merged_df['Arrival_time_convenient'].fillna('good', inplace = True)\n",
        "display(merged_df['Arrival_time_convenient'].isna().sum()) #imputing 'good' value for 'NaN'\n",
        "\n",
        "merged_df_test['Arrival_time_convenient'].fillna('good', inplace = True)\n",
        "display(merged_df_test['Arrival_time_convenient'].isna().sum())"
      ],
      "execution_count": 19,
      "outputs": [
        {
          "output_type": "display_data",
          "data": {
            "text/plain": [
              "0"
            ]
          },
          "metadata": {}
        },
        {
          "output_type": "display_data",
          "data": {
            "text/plain": [
              "0"
            ]
          },
          "metadata": {}
        }
      ]
    },
    {
      "cell_type": "code",
      "metadata": {
        "id": "rRGNB0-CV1RX"
      },
      "source": [
        "\n",
        "#imputing all columns from survey and Gender and Frequency from travel in merged_df with highest frequency value\n",
        "for i in range (5,19):\n",
        "    merged_df.iloc[:,i].fillna(merged_df.iloc[:,i].value_counts().index[0], inplace = True)"
      ],
      "execution_count": 20,
      "outputs": []
    },
    {
      "cell_type": "code",
      "metadata": {
        "id": "lVWS29OZV416"
      },
      "source": [
        "#imputing all columns from survey and Gender and Frequency from travel in merged_df with highest frequency value\n",
        "for i in range (5,19):\n",
        "    merged_df.iloc[:,i].fillna(merged_df.iloc[:,i].value_counts().index[0], inplace = True)"
      ],
      "execution_count": 21,
      "outputs": []
    },
    {
      "cell_type": "code",
      "metadata": {
        "id": "LTHKeQ9yWftp"
      },
      "source": [
        "for i in range (4,18):\n",
        "    merged_df_test.iloc[:,i].fillna(merged_df_test.iloc[:,i].value_counts().index[0], inplace = True)"
      ],
      "execution_count": 22,
      "outputs": []
    },
    {
      "cell_type": "code",
      "metadata": {
        "colab": {
          "base_uri": "https://localhost:8080/",
          "height": 934
        },
        "id": "XXDsPopTWjV5",
        "outputId": "b05246e0-a8a5-4d4c-b133-da5877c04df2"
      },
      "source": [
        "display(merged_df.isna().sum())\n",
        "\n",
        "display(merged_df_test.isna().sum())"
      ],
      "execution_count": 23,
      "outputs": [
        {
          "output_type": "display_data",
          "data": {
            "text/plain": [
              "ID                            0\n",
              "Overall_Experience            0\n",
              "Seat_comfort                  0\n",
              "Seat_Class                    0\n",
              "Arrival_time_convenient       0\n",
              "Catering                      0\n",
              "Platform_location             0\n",
              "Onboardwifi_service           0\n",
              "Onboard_entertainment         0\n",
              "Online_support                0\n",
              "Onlinebooking_Ease            0\n",
              "Onboard_service               0\n",
              "Leg_room                      0\n",
              "Baggage_handling              0\n",
              "Checkin_service               0\n",
              "Cleanliness                   0\n",
              "Online_boarding               0\n",
              "Gender                        0\n",
              "CustomerType                  0\n",
              "Age                          33\n",
              "TypeTravel                 9226\n",
              "Travel_Class                  0\n",
              "Travel_Distance               0\n",
              "DepartureDelay_in_Mins       57\n",
              "ArrivalDelay_in_Mins        357\n",
              "dtype: int64"
            ]
          },
          "metadata": {}
        },
        {
          "output_type": "display_data",
          "data": {
            "text/plain": [
              "ID                            0\n",
              "Seat_comfort                  0\n",
              "Seat_Class                    0\n",
              "Arrival_time_convenient       0\n",
              "Catering                      0\n",
              "Platform_location             0\n",
              "Onboardwifi_service           0\n",
              "Onboard_entertainment         0\n",
              "Online_support                0\n",
              "Onlinebooking_Ease            0\n",
              "Onboard_service               0\n",
              "Leg_room                      0\n",
              "Baggage_handling              0\n",
              "Checkin_service               0\n",
              "Cleanliness                   0\n",
              "Online_boarding               0\n",
              "Gender                        0\n",
              "CustomerType                  0\n",
              "Age                          11\n",
              "TypeTravel                 3448\n",
              "Travel_Class                  0\n",
              "Travel_Distance               0\n",
              "DepartureDelay_in_Mins       29\n",
              "ArrivalDelay_in_Mins        123\n",
              "dtype: int64"
            ]
          },
          "metadata": {}
        }
      ]
    },
    {
      "cell_type": "code",
      "metadata": {
        "colab": {
          "base_uri": "https://localhost:8080/",
          "height": 126
        },
        "id": "XmLjrmQ1Wmqf",
        "outputId": "6b5dc5c9-5fc4-454c-e613-661ec90ce2a4"
      },
      "source": [
        "#binning the age variable in to 4 bins\n",
        "merged_df['Age'] = pd.cut(merged_df['Age'], 5, labels = ['25', '35', '45', '60', '80'])\n",
        "merged_df_test['Age'] = pd.cut(merged_df_test['Age'], 5, labels = ['25', '35', '45', '60', '80'])\n",
        "\n",
        "display(\"Age:\", merged_df.Age.unique())\n",
        "display(\"Age:\", merged_df_test.Age.unique())"
      ],
      "execution_count": 24,
      "outputs": [
        {
          "output_type": "display_data",
          "data": {
            "application/vnd.google.colaboratory.intrinsic+json": {
              "type": "string"
            },
            "text/plain": [
              "'Age:'"
            ]
          },
          "metadata": {}
        },
        {
          "output_type": "display_data",
          "data": {
            "text/plain": [
              "['45', '60', '25', '35', '80', NaN]\n",
              "Categories (5, object): ['25' < '35' < '45' < '60' < '80']"
            ]
          },
          "metadata": {}
        },
        {
          "output_type": "display_data",
          "data": {
            "application/vnd.google.colaboratory.intrinsic+json": {
              "type": "string"
            },
            "text/plain": [
              "'Age:'"
            ]
          },
          "metadata": {}
        },
        {
          "output_type": "display_data",
          "data": {
            "text/plain": [
              "['35', '25', '60', '45', '80', NaN]\n",
              "Categories (5, object): ['25' < '35' < '45' < '60' < '80']"
            ]
          },
          "metadata": {}
        }
      ]
    },
    {
      "cell_type": "code",
      "metadata": {
        "colab": {
          "base_uri": "https://localhost:8080/"
        },
        "id": "ERiuqWOfXDb-",
        "outputId": "34bf57a1-c522-4889-dd52-70e9a313a17a"
      },
      "source": [
        "\n",
        "#merged_df[merged_df['CustomerType'] == 'Loyal Customer']['Age'].fillna('60', inplace = True)\n",
        "\n",
        "np.where(merged_df['CustomerType'] == 'Loyal Customer', merged_df['Age'], merged_df['Age'].fillna('60', inplace = True))\n",
        "np.where(merged_df['CustomerType'] == 'disloyal Customer', merged_df['Age'], merged_df['Age'].fillna('25', inplace = True))\n",
        "np.where(merged_df_test['CustomerType'] == 'Loyal Customer', merged_df_test['Age'], merged_df_test['Age'].fillna('60', inplace = True))\n",
        "np.where(merged_df_test['CustomerType'] == 'disloyal Customer', merged_df_test['Age'], merged_df_test['Age'].fillna('25', inplace = True))"
      ],
      "execution_count": 25,
      "outputs": [
        {
          "output_type": "execute_result",
          "data": {
            "text/plain": [
              "array([None, '25', None, ..., '25', None, None], dtype=object)"
            ]
          },
          "metadata": {},
          "execution_count": 25
        }
      ]
    },
    {
      "cell_type": "code",
      "metadata": {
        "colab": {
          "base_uri": "https://localhost:8080/",
          "height": 934
        },
        "id": "oBbO2tPeXVqg",
        "outputId": "075b7024-5a0e-4ebf-a604-e9bd85376860"
      },
      "source": [
        "display(merged_df.isna().sum())\n",
        "display(merged_df_test.isna().sum())"
      ],
      "execution_count": 26,
      "outputs": [
        {
          "output_type": "display_data",
          "data": {
            "text/plain": [
              "ID                            0\n",
              "Overall_Experience            0\n",
              "Seat_comfort                  0\n",
              "Seat_Class                    0\n",
              "Arrival_time_convenient       0\n",
              "Catering                      0\n",
              "Platform_location             0\n",
              "Onboardwifi_service           0\n",
              "Onboard_entertainment         0\n",
              "Online_support                0\n",
              "Onlinebooking_Ease            0\n",
              "Onboard_service               0\n",
              "Leg_room                      0\n",
              "Baggage_handling              0\n",
              "Checkin_service               0\n",
              "Cleanliness                   0\n",
              "Online_boarding               0\n",
              "Gender                        0\n",
              "CustomerType                  0\n",
              "Age                           0\n",
              "TypeTravel                 9226\n",
              "Travel_Class                  0\n",
              "Travel_Distance               0\n",
              "DepartureDelay_in_Mins       57\n",
              "ArrivalDelay_in_Mins        357\n",
              "dtype: int64"
            ]
          },
          "metadata": {}
        },
        {
          "output_type": "display_data",
          "data": {
            "text/plain": [
              "ID                            0\n",
              "Seat_comfort                  0\n",
              "Seat_Class                    0\n",
              "Arrival_time_convenient       0\n",
              "Catering                      0\n",
              "Platform_location             0\n",
              "Onboardwifi_service           0\n",
              "Onboard_entertainment         0\n",
              "Online_support                0\n",
              "Onlinebooking_Ease            0\n",
              "Onboard_service               0\n",
              "Leg_room                      0\n",
              "Baggage_handling              0\n",
              "Checkin_service               0\n",
              "Cleanliness                   0\n",
              "Online_boarding               0\n",
              "Gender                        0\n",
              "CustomerType                  0\n",
              "Age                           0\n",
              "TypeTravel                 3448\n",
              "Travel_Class                  0\n",
              "Travel_Distance               0\n",
              "DepartureDelay_in_Mins       29\n",
              "ArrivalDelay_in_Mins        123\n",
              "dtype: int64"
            ]
          },
          "metadata": {}
        }
      ]
    },
    {
      "cell_type": "code",
      "metadata": {
        "colab": {
          "base_uri": "https://localhost:8080/"
        },
        "id": "mh9j6wRkXY0I",
        "outputId": "ad04c47f-df16-4489-83bb-3c889525fb5d"
      },
      "source": [
        "merged_df.groupby(['Travel_Class', 'TypeTravel']).count()['ID']"
      ],
      "execution_count": 27,
      "outputs": [
        {
          "output_type": "execute_result",
          "data": {
            "text/plain": [
              "Travel_Class  TypeTravel     \n",
              "Business      Business travel    38849\n",
              "              Personal Travel     1791\n",
              "Eco           Business travel    19768\n",
              "              Personal Travel    24745\n",
              "Name: ID, dtype: int64"
            ]
          },
          "metadata": {},
          "execution_count": 27
        }
      ]
    },
    {
      "cell_type": "code",
      "metadata": {
        "colab": {
          "base_uri": "https://localhost:8080/"
        },
        "id": "5ORreCrUXiJw",
        "outputId": "85702f4c-3bc2-40c5-ecbe-eb58bb18aef7"
      },
      "source": [
        "merged_df[merged_df['TypeTravel'].isna()]['Travel_Class']"
      ],
      "execution_count": 28,
      "outputs": [
        {
          "output_type": "execute_result",
          "data": {
            "text/plain": [
              "0        Business\n",
              "12       Business\n",
              "15       Business\n",
              "30            Eco\n",
              "39            Eco\n",
              "           ...   \n",
              "94273         Eco\n",
              "94288         Eco\n",
              "94307    Business\n",
              "94328         Eco\n",
              "94378         Eco\n",
              "Name: Travel_Class, Length: 9226, dtype: object"
            ]
          },
          "metadata": {},
          "execution_count": 28
        }
      ]
    },
    {
      "cell_type": "code",
      "metadata": {
        "colab": {
          "base_uri": "https://localhost:8080/"
        },
        "id": "PivAcFCLXrlH",
        "outputId": "df14951b-62a6-4d2b-81c5-f9714b1f5686"
      },
      "source": [
        "\n",
        "np.where(merged_df['Travel_Class'] == 'Business', merged_df['TypeTravel'], merged_df['TypeTravel'].fillna('Business travel', inplace = True))\n",
        "np.where(merged_df['Travel_Class'] == 'Eco', merged_df['TypeTravel'], merged_df['TypeTravel'].fillna('Personal Travel', inplace = True))\n",
        "\n",
        "np.where(merged_df_test['Travel_Class'] == 'Business', merged_df_test['TypeTravel'], merged_df_test['TypeTravel'].fillna('Business travel', inplace = True))\n",
        "np.where(merged_df_test['Travel_Class'] == 'Eco', merged_df_test['TypeTravel'], merged_df_test['TypeTravel'].fillna('Personal Travel', inplace = True))"
      ],
      "execution_count": 29,
      "outputs": [
        {
          "output_type": "execute_result",
          "data": {
            "text/plain": [
              "array([None, None, None, ..., 'Business travel', 'Personal Travel',\n",
              "       'Personal Travel'], dtype=object)"
            ]
          },
          "metadata": {},
          "execution_count": 29
        }
      ]
    },
    {
      "cell_type": "code",
      "metadata": {
        "id": "2wmXjhUyYQSA"
      },
      "source": [
        "\n",
        "merged_df['DepartureDelay_in_Mins'].fillna(merged_df['DepartureDelay_in_Mins'].mean(), inplace = True)\n",
        "merged_df['ArrivalDelay_in_Mins'].fillna(merged_df['ArrivalDelay_in_Mins'].mean(), inplace = True)\n",
        "\n",
        "\n",
        "merged_df_test['DepartureDelay_in_Mins'].fillna(merged_df_test['DepartureDelay_in_Mins'].mean(), inplace = True)\n",
        "merged_df_test['ArrivalDelay_in_Mins'].fillna(merged_df_test['ArrivalDelay_in_Mins'].mean(), inplace = True)"
      ],
      "execution_count": 30,
      "outputs": []
    },
    {
      "cell_type": "code",
      "metadata": {
        "colab": {
          "base_uri": "https://localhost:8080/",
          "height": 934
        },
        "id": "h9cerx9nYTv-",
        "outputId": "608aa993-e98f-4cbb-8be1-6c6a1f941c46"
      },
      "source": [
        "display(merged_df.isna().sum())\n",
        "display(merged_df_test.isna().sum())"
      ],
      "execution_count": 31,
      "outputs": [
        {
          "output_type": "display_data",
          "data": {
            "text/plain": [
              "ID                         0\n",
              "Overall_Experience         0\n",
              "Seat_comfort               0\n",
              "Seat_Class                 0\n",
              "Arrival_time_convenient    0\n",
              "Catering                   0\n",
              "Platform_location          0\n",
              "Onboardwifi_service        0\n",
              "Onboard_entertainment      0\n",
              "Online_support             0\n",
              "Onlinebooking_Ease         0\n",
              "Onboard_service            0\n",
              "Leg_room                   0\n",
              "Baggage_handling           0\n",
              "Checkin_service            0\n",
              "Cleanliness                0\n",
              "Online_boarding            0\n",
              "Gender                     0\n",
              "CustomerType               0\n",
              "Age                        0\n",
              "TypeTravel                 0\n",
              "Travel_Class               0\n",
              "Travel_Distance            0\n",
              "DepartureDelay_in_Mins     0\n",
              "ArrivalDelay_in_Mins       0\n",
              "dtype: int64"
            ]
          },
          "metadata": {}
        },
        {
          "output_type": "display_data",
          "data": {
            "text/plain": [
              "ID                         0\n",
              "Seat_comfort               0\n",
              "Seat_Class                 0\n",
              "Arrival_time_convenient    0\n",
              "Catering                   0\n",
              "Platform_location          0\n",
              "Onboardwifi_service        0\n",
              "Onboard_entertainment      0\n",
              "Online_support             0\n",
              "Onlinebooking_Ease         0\n",
              "Onboard_service            0\n",
              "Leg_room                   0\n",
              "Baggage_handling           0\n",
              "Checkin_service            0\n",
              "Cleanliness                0\n",
              "Online_boarding            0\n",
              "Gender                     0\n",
              "CustomerType               0\n",
              "Age                        0\n",
              "TypeTravel                 0\n",
              "Travel_Class               0\n",
              "Travel_Distance            0\n",
              "DepartureDelay_in_Mins     0\n",
              "ArrivalDelay_in_Mins       0\n",
              "dtype: int64"
            ]
          },
          "metadata": {}
        }
      ]
    },
    {
      "cell_type": "markdown",
      "metadata": {
        "id": "NytZzpJeYrpe"
      },
      "source": [
        "# **Encoded values for ordinal categories in merge_dataset**\n"
      ]
    },
    {
      "cell_type": "code",
      "metadata": {
        "id": "AYR_5w5yYjmG"
      },
      "source": [
        "\n",
        "merged_df['Seat_comfort'].replace(['excellent', 'good', 'acceptable', 'need improvement', 'poor', 'extremely poor'], [5, 4, 3, 2, 1, 0], inplace = True)\n",
        "merged_df['Arrival_time_convenient'].replace(['excellent', 'good', 'acceptable', 'need improvement', 'poor', 'extremely poor'], [5, 4, 3, 2, 1, 0], inplace = True)\n",
        "merged_df['Catering'].replace(['excellent', 'good', 'acceptable', 'need improvement', 'poor', 'extremely poor'], [5, 4, 3, 2, 1, 0], inplace = True)\n",
        "merged_df['Onboardwifi_service'].replace(['excellent', 'good', 'acceptable', 'need improvement', 'poor', 'extremely poor'], [5, 4, 3, 2, 1, 0], inplace = True)\n",
        "merged_df['Onboard_entertainment'].replace(['excellent', 'good', 'acceptable', 'need improvement', 'poor', 'extremely poor'], [5, 4, 3, 2, 1, 0], inplace = True)\n",
        "merged_df['Online_support'].replace(['excellent', 'good', 'acceptable', 'need improvement', 'poor', 'extremely poor'], [5, 4, 3, 2, 1, 0], inplace = True)\n",
        "merged_df['Onlinebooking_Ease'].replace(['excellent', 'good', 'acceptable', 'need improvement', 'poor', 'extremely poor'], [5, 4, 3, 2, 1, 0], inplace = True)\n",
        "merged_df['Onboard_service'].replace(['excellent', 'good', 'acceptable', 'need improvement', 'poor', 'extremely poor'], [5, 4, 3, 2, 1, 0], inplace = True)\n",
        "merged_df['Leg_room'].replace(['excellent', 'good', 'acceptable', 'need improvement', 'poor', 'extremely poor'], [5, 4, 3, 2, 1, 0], inplace = True)\n",
        "merged_df['Checkin_service'].replace(['excellent', 'good', 'acceptable', 'need improvement', 'poor', 'extremely poor'], [5, 4, 3, 2, 1, 0], inplace = True)\n",
        "merged_df['Cleanliness'].replace(['excellent', 'good', 'acceptable', 'need improvement', 'poor', 'extremely poor'], [5, 4, 3, 2, 1, 0], inplace = True)\n",
        "merged_df['Online_boarding'].replace(['excellent', 'good', 'acceptable', 'need improvement', 'poor', 'extremely poor' ], [5, 4, 3, 2, 1, 0], inplace = True)"
      ],
      "execution_count": 32,
      "outputs": []
    },
    {
      "cell_type": "code",
      "metadata": {
        "id": "_JgpEMRsZC98"
      },
      "source": [
        "\n",
        "merged_df_test['Seat_comfort'].replace(['excellent', 'good', 'acceptable', 'need improvement', 'poor', 'extremely poor' ], [5, 4, 3, 2, 1, 0], inplace = True)\n",
        "merged_df_test['Arrival_time_convenient'].replace(['excellent', 'good', 'acceptable', 'need improvement', 'poor', 'extremely poor' ], [5, 4, 3, 2, 1, 0], inplace = True)\n",
        "merged_df_test['Catering'].replace(['excellent', 'good', 'acceptable', 'need improvement', 'poor', 'extremely poor' ], [5, 4, 3, 2, 1, 0], inplace = True)\n",
        "merged_df_test['Onboardwifi_service'].replace(['excellent', 'good', 'acceptable', 'need improvement', 'poor', 'extremely poor' ], [5, 4, 3, 2, 1, 0], inplace = True)\n",
        "merged_df_test['Onboard_entertainment'].replace(['excellent', 'good', 'acceptable', 'need improvement', 'poor', 'extremely poor' ], [5, 4, 3, 2, 1, 0], inplace = True)\n",
        "merged_df_test['Online_support'].replace(['excellent', 'good', 'acceptable', 'need improvement', 'poor', 'extremely poor' ], [5, 4, 3, 2, 1, 0], inplace = True)\n",
        "merged_df_test['Onlinebooking_Ease'].replace(['excellent', 'good', 'acceptable', 'need improvement', 'poor', 'extremely poor' ], [5, 4, 3, 2, 1, 0], inplace = True)\n",
        "merged_df_test['Onboard_service'].replace(['excellent', 'good', 'acceptable', 'need improvement', 'poor', 'extremely poor' ], [5, 4, 3, 2, 1, 0], inplace = True)\n",
        "merged_df_test['Leg_room'].replace(['excellent', 'good', 'acceptable', 'need improvement', 'poor', 'extremely poor' ], [5, 4, 3, 2, 1, 0], inplace = True)\n",
        "merged_df_test['Checkin_service'].replace(['excellent', 'good', 'acceptable', 'need improvement', 'poor', 'extremely poor' ], [5, 4, 3, 2, 1, 0], inplace = True)\n",
        "merged_df_test['Cleanliness'].replace(['excellent', 'good', 'acceptable', 'need improvement', 'poor', 'extremely poor' ], [5, 4, 3, 2, 1, 0], inplace = True)\n",
        "merged_df_test['Online_boarding'].replace(['excellent', 'good', 'acceptable', 'need improvement', 'poor', 'extremely poor' ], [5, 4, 3, 2, 1, 0], inplace = True)"
      ],
      "execution_count": 33,
      "outputs": []
    },
    {
      "cell_type": "code",
      "metadata": {
        "colab": {
          "base_uri": "https://localhost:8080/",
          "height": 1000
        },
        "id": "UN2McAuDZIFy",
        "outputId": "32e1a351-5e91-4b22-cc3f-221a6aa66284"
      },
      "source": [
        "display(merged_df.info())\n",
        "display(merged_df_test.info())"
      ],
      "execution_count": 34,
      "outputs": [
        {
          "output_type": "stream",
          "name": "stdout",
          "text": [
            "<class 'pandas.core.frame.DataFrame'>\n",
            "Int64Index: 94379 entries, 0 to 94378\n",
            "Data columns (total 25 columns):\n",
            " #   Column                   Non-Null Count  Dtype   \n",
            "---  ------                   --------------  -----   \n",
            " 0   ID                       94379 non-null  int64   \n",
            " 1   Overall_Experience       94379 non-null  int64   \n",
            " 2   Seat_comfort             94379 non-null  int64   \n",
            " 3   Seat_Class               94379 non-null  object  \n",
            " 4   Arrival_time_convenient  94379 non-null  int64   \n",
            " 5   Catering                 94379 non-null  int64   \n",
            " 6   Platform_location        94379 non-null  object  \n",
            " 7   Onboardwifi_service      94379 non-null  int64   \n",
            " 8   Onboard_entertainment    94379 non-null  int64   \n",
            " 9   Online_support           94379 non-null  int64   \n",
            " 10  Onlinebooking_Ease       94379 non-null  int64   \n",
            " 11  Onboard_service          94379 non-null  int64   \n",
            " 12  Leg_room                 94379 non-null  int64   \n",
            " 13  Baggage_handling         94379 non-null  object  \n",
            " 14  Checkin_service          94379 non-null  int64   \n",
            " 15  Cleanliness              94379 non-null  int64   \n",
            " 16  Online_boarding          94379 non-null  int64   \n",
            " 17  Gender                   94379 non-null  object  \n",
            " 18  CustomerType             94379 non-null  object  \n",
            " 19  Age                      94379 non-null  category\n",
            " 20  TypeTravel               94379 non-null  object  \n",
            " 21  Travel_Class             94379 non-null  object  \n",
            " 22  Travel_Distance          94379 non-null  int64   \n",
            " 23  DepartureDelay_in_Mins   94379 non-null  float64 \n",
            " 24  ArrivalDelay_in_Mins     94379 non-null  float64 \n",
            "dtypes: category(1), float64(2), int64(15), object(7)\n",
            "memory usage: 18.1+ MB\n"
          ]
        },
        {
          "output_type": "display_data",
          "data": {
            "text/plain": [
              "None"
            ]
          },
          "metadata": {}
        },
        {
          "output_type": "stream",
          "name": "stdout",
          "text": [
            "<class 'pandas.core.frame.DataFrame'>\n",
            "Int64Index: 35602 entries, 0 to 35601\n",
            "Data columns (total 24 columns):\n",
            " #   Column                   Non-Null Count  Dtype   \n",
            "---  ------                   --------------  -----   \n",
            " 0   ID                       35602 non-null  int64   \n",
            " 1   Seat_comfort             35602 non-null  int64   \n",
            " 2   Seat_Class               35602 non-null  object  \n",
            " 3   Arrival_time_convenient  35602 non-null  int64   \n",
            " 4   Catering                 35602 non-null  int64   \n",
            " 5   Platform_location        35602 non-null  object  \n",
            " 6   Onboardwifi_service      35602 non-null  int64   \n",
            " 7   Onboard_entertainment    35602 non-null  int64   \n",
            " 8   Online_support           35602 non-null  int64   \n",
            " 9   Onlinebooking_Ease       35602 non-null  int64   \n",
            " 10  Onboard_service          35602 non-null  int64   \n",
            " 11  Leg_room                 35602 non-null  int64   \n",
            " 12  Baggage_handling         35602 non-null  object  \n",
            " 13  Checkin_service          35602 non-null  int64   \n",
            " 14  Cleanliness              35602 non-null  int64   \n",
            " 15  Online_boarding          35602 non-null  int64   \n",
            " 16  Gender                   35602 non-null  object  \n",
            " 17  CustomerType             35602 non-null  object  \n",
            " 18  Age                      35602 non-null  category\n",
            " 19  TypeTravel               35602 non-null  object  \n",
            " 20  Travel_Class             35602 non-null  object  \n",
            " 21  Travel_Distance          35602 non-null  int64   \n",
            " 22  DepartureDelay_in_Mins   35602 non-null  float64 \n",
            " 23  ArrivalDelay_in_Mins     35602 non-null  float64 \n",
            "dtypes: category(1), float64(2), int64(14), object(7)\n",
            "memory usage: 6.6+ MB\n"
          ]
        },
        {
          "output_type": "display_data",
          "data": {
            "text/plain": [
              "None"
            ]
          },
          "metadata": {}
        }
      ]
    },
    {
      "cell_type": "code",
      "metadata": {
        "id": "QaqR5bW2ZPu-"
      },
      "source": [
        "merged_df['Platform_location'].replace(['very convinient', 'need improvement', 'manageable',\n",
        "       'Inconvinient', 'Convinient', 'very inconvinient'], [5,2,3,1,4,0], inplace = True)\n",
        "merged_df['Seat_Class'].replace(['Green Car', 'Ordinary'], [0,1], inplace = True)\n",
        "merged_df['Baggage_handling'].replace(['need improvement', 'poor', 'excellent', 'acceptable', 'good'], [2,1,5,3,4], inplace = True)\n",
        "\n",
        "\n",
        "\n",
        "merged_df_test['Platform_location'].replace(['very convinient', 'need improvement', 'manageable',\n",
        "       'Inconvinient', 'Convinient', 'very inconvinient'], [5,2,3,1,4,0], inplace = True)\n",
        "merged_df_test['Seat_Class'].replace(['Green Car', 'Ordinary'], [0,1], inplace = True)\n",
        "merged_df_test['Baggage_handling'].replace(['need improvement', 'poor', 'excellent', 'acceptable', 'good'], [2,1,5,3,4], inplace = True)\n",
        "\n",
        "\n",
        "\n",
        "merged_df['Gender'].replace(['Female', 'Male'], [0,1], inplace = True)\n",
        "merged_df['CustomerType'].replace(['Loyal Customer', 'disloyal Customer'], [0,1], inplace = True)\n",
        "merged_df['TypeTravel'].replace(['Business travel', 'Personal Travel'], [0,1], inplace = True)\n",
        "merged_df['Travel_Class'].replace(['Business', 'Eco'], [0,1], inplace = True)\n",
        "\n",
        "\n",
        "merged_df_test['Gender'].replace(['Female', 'Male'], [0,1], inplace = True)\n",
        "merged_df_test['CustomerType'].replace(['Loyal Customer', 'disloyal Customer'], [0,1], inplace = True)\n",
        "merged_df_test['TypeTravel'].replace(['Business travel', 'Personal Travel'], [0,1], inplace = True)\n",
        "merged_df_test['Travel_Class'].replace(['Business', 'Eco'], [0,1], inplace = True)"
      ],
      "execution_count": 35,
      "outputs": []
    },
    {
      "cell_type": "code",
      "metadata": {
        "id": "ZI_5xH0TZcnR"
      },
      "source": [
        "for feature in merged_df.columns:\n",
        "    if merged_df[feature].dtype == 'object':\n",
        "        merged_df[feature] = pd.Categorical(merged_df[feature])\n",
        "        \n",
        "merged_df = pd.get_dummies(merged_df, columns = ['Age'])"
      ],
      "execution_count": 36,
      "outputs": []
    },
    {
      "cell_type": "code",
      "metadata": {
        "id": "ltrhHs84Zsbu"
      },
      "source": [
        "for feature in merged_df_test.columns:\n",
        "    if merged_df_test[feature].dtype == 'object':\n",
        "        merged_df_test[feature] = pd.Categorical(merged_df_test[feature])\n",
        "        \n",
        "merged_df_test = pd.get_dummies(merged_df_test, columns = ['Age'])"
      ],
      "execution_count": 37,
      "outputs": []
    },
    {
      "cell_type": "code",
      "metadata": {
        "colab": {
          "base_uri": "https://localhost:8080/",
          "height": 1000
        },
        "id": "mxCHEDN1Z0op",
        "outputId": "23713c80-ca71-4bc7-b2a0-a94ade9800c8"
      },
      "source": [
        "display(merged_df.info())\n",
        "display(merged_df_test.info())"
      ],
      "execution_count": 38,
      "outputs": [
        {
          "output_type": "stream",
          "name": "stdout",
          "text": [
            "<class 'pandas.core.frame.DataFrame'>\n",
            "Int64Index: 94379 entries, 0 to 94378\n",
            "Data columns (total 29 columns):\n",
            " #   Column                   Non-Null Count  Dtype  \n",
            "---  ------                   --------------  -----  \n",
            " 0   ID                       94379 non-null  int64  \n",
            " 1   Overall_Experience       94379 non-null  int64  \n",
            " 2   Seat_comfort             94379 non-null  int64  \n",
            " 3   Seat_Class               94379 non-null  int64  \n",
            " 4   Arrival_time_convenient  94379 non-null  int64  \n",
            " 5   Catering                 94379 non-null  int64  \n",
            " 6   Platform_location        94379 non-null  int64  \n",
            " 7   Onboardwifi_service      94379 non-null  int64  \n",
            " 8   Onboard_entertainment    94379 non-null  int64  \n",
            " 9   Online_support           94379 non-null  int64  \n",
            " 10  Onlinebooking_Ease       94379 non-null  int64  \n",
            " 11  Onboard_service          94379 non-null  int64  \n",
            " 12  Leg_room                 94379 non-null  int64  \n",
            " 13  Baggage_handling         94379 non-null  int64  \n",
            " 14  Checkin_service          94379 non-null  int64  \n",
            " 15  Cleanliness              94379 non-null  int64  \n",
            " 16  Online_boarding          94379 non-null  int64  \n",
            " 17  Gender                   94379 non-null  int64  \n",
            " 18  CustomerType             94379 non-null  int64  \n",
            " 19  TypeTravel               94379 non-null  int64  \n",
            " 20  Travel_Class             94379 non-null  int64  \n",
            " 21  Travel_Distance          94379 non-null  int64  \n",
            " 22  DepartureDelay_in_Mins   94379 non-null  float64\n",
            " 23  ArrivalDelay_in_Mins     94379 non-null  float64\n",
            " 24  Age_25                   94379 non-null  uint8  \n",
            " 25  Age_35                   94379 non-null  uint8  \n",
            " 26  Age_45                   94379 non-null  uint8  \n",
            " 27  Age_60                   94379 non-null  uint8  \n",
            " 28  Age_80                   94379 non-null  uint8  \n",
            "dtypes: float64(2), int64(22), uint8(5)\n",
            "memory usage: 18.5 MB\n"
          ]
        },
        {
          "output_type": "display_data",
          "data": {
            "text/plain": [
              "None"
            ]
          },
          "metadata": {}
        },
        {
          "output_type": "stream",
          "name": "stdout",
          "text": [
            "<class 'pandas.core.frame.DataFrame'>\n",
            "Int64Index: 35602 entries, 0 to 35601\n",
            "Data columns (total 28 columns):\n",
            " #   Column                   Non-Null Count  Dtype  \n",
            "---  ------                   --------------  -----  \n",
            " 0   ID                       35602 non-null  int64  \n",
            " 1   Seat_comfort             35602 non-null  int64  \n",
            " 2   Seat_Class               35602 non-null  int64  \n",
            " 3   Arrival_time_convenient  35602 non-null  int64  \n",
            " 4   Catering                 35602 non-null  int64  \n",
            " 5   Platform_location        35602 non-null  int64  \n",
            " 6   Onboardwifi_service      35602 non-null  int64  \n",
            " 7   Onboard_entertainment    35602 non-null  int64  \n",
            " 8   Online_support           35602 non-null  int64  \n",
            " 9   Onlinebooking_Ease       35602 non-null  int64  \n",
            " 10  Onboard_service          35602 non-null  int64  \n",
            " 11  Leg_room                 35602 non-null  int64  \n",
            " 12  Baggage_handling         35602 non-null  int64  \n",
            " 13  Checkin_service          35602 non-null  int64  \n",
            " 14  Cleanliness              35602 non-null  int64  \n",
            " 15  Online_boarding          35602 non-null  int64  \n",
            " 16  Gender                   35602 non-null  int64  \n",
            " 17  CustomerType             35602 non-null  int64  \n",
            " 18  TypeTravel               35602 non-null  int64  \n",
            " 19  Travel_Class             35602 non-null  int64  \n",
            " 20  Travel_Distance          35602 non-null  int64  \n",
            " 21  DepartureDelay_in_Mins   35602 non-null  float64\n",
            " 22  ArrivalDelay_in_Mins     35602 non-null  float64\n",
            " 23  Age_25                   35602 non-null  uint8  \n",
            " 24  Age_35                   35602 non-null  uint8  \n",
            " 25  Age_45                   35602 non-null  uint8  \n",
            " 26  Age_60                   35602 non-null  uint8  \n",
            " 27  Age_80                   35602 non-null  uint8  \n",
            "dtypes: float64(2), int64(21), uint8(5)\n",
            "memory usage: 6.7 MB\n"
          ]
        },
        {
          "output_type": "display_data",
          "data": {
            "text/plain": [
              "None"
            ]
          },
          "metadata": {}
        }
      ]
    },
    {
      "cell_type": "code",
      "metadata": {
        "id": "vL-lrsboZ5sY"
      },
      "source": [
        "#sns.pairplot(merged_df, corner= True, hue = 'Overall_Experience')\n",
        "#plt.show()"
      ],
      "execution_count": 39,
      "outputs": []
    },
    {
      "cell_type": "code",
      "metadata": {
        "colab": {
          "base_uri": "https://localhost:8080/",
          "height": 336
        },
        "id": "wGekFbK-e_h1",
        "outputId": "41f18db0-6159-4a69-cd5c-a5a4b747c4da"
      },
      "source": [
        "sns.countplot('Overall_Experience',data = merged_df)\n",
        "plt.show()"
      ],
      "execution_count": 40,
      "outputs": [
        {
          "output_type": "stream",
          "name": "stderr",
          "text": [
            "/usr/local/lib/python3.7/dist-packages/seaborn/_decorators.py:43: FutureWarning: Pass the following variable as a keyword arg: x. From version 0.12, the only valid positional argument will be `data`, and passing other arguments without an explicit keyword will result in an error or misinterpretation.\n",
            "  FutureWarning\n"
          ]
        },
        {
          "output_type": "display_data",
          "data": {
            "image/png": "[encoded data removed]",
            "text/plain": [
              "<Figure size 432x288 with 1 Axes>"
            ]
          },
          "metadata": {
            "needs_background": "light"
          }
        }
      ]
    },
    {
      "cell_type": "code",
      "metadata": {
        "colab": {
          "base_uri": "https://localhost:8080/",
          "height": 405
        },
        "id": "sFX5a-ZcfFpo",
        "outputId": "9bda7c9b-1b0f-4898-b9de-cf8449a21c9e"
      },
      "source": [
        "#seperating the independant and dependant variables\n",
        "x = merged_df.drop(['ID', 'Overall_Experience', 'DepartureDelay_in_Mins', 'ArrivalDelay_in_Mins'], axis = 1)\n",
        "y = merged_df['Overall_Experience']\n",
        "display(x.head())\n",
        "\n",
        "x_test = merged_df_test.drop(['ID', 'DepartureDelay_in_Mins', 'ArrivalDelay_in_Mins'], axis = 1)\n",
        "display(x_test.head())"
      ],
      "execution_count": 41,
      "outputs": [
        {
          "output_type": "display_data",
          "data": {
            "text/html": [
              "<div>\n",
              "<style scoped>\n",
              "    .dataframe tbody tr th:only-of-type {\n",
              "        vertical-align: middle;\n",
              "    }\n",
              "\n",
              "    .dataframe tbody tr th {\n",
              "        vertical-align: top;\n",
              "    }\n",
              "\n",
              "    .dataframe thead th {\n",
              "        text-align: right;\n",
              "    }\n",
              "</style>\n",
              "<table border=\"1\" class=\"dataframe\">\n",
              "  <thead>\n",
              "    <tr style=\"text-align: right;\">\n",
              "      <th></th>\n",
              "      <th>Seat_comfort</th>\n",
              "      <th>Seat_Class</th>\n",
              "      <th>Arrival_time_convenient</th>\n",
              "      <th>Catering</th>\n",
              "      <th>Platform_location</th>\n",
              "      <th>Onboardwifi_service</th>\n",
              "      <th>Onboard_entertainment</th>\n",
              "      <th>Online_support</th>\n",
              "      <th>Onlinebooking_Ease</th>\n",
              "      <th>Onboard_service</th>\n",
              "      <th>Leg_room</th>\n",
              "      <th>Baggage_handling</th>\n",
              "      <th>Checkin_service</th>\n",
              "      <th>Cleanliness</th>\n",
              "      <th>Online_boarding</th>\n",
              "      <th>Gender</th>\n",
              "      <th>CustomerType</th>\n",
              "      <th>TypeTravel</th>\n",
              "      <th>Travel_Class</th>\n",
              "      <th>Travel_Distance</th>\n",
              "      <th>Age_25</th>\n",
              "      <th>Age_35</th>\n",
              "      <th>Age_45</th>\n",
              "      <th>Age_60</th>\n",
              "      <th>Age_80</th>\n",
              "    </tr>\n",
              "  </thead>\n",
              "  <tbody>\n",
              "    <tr>\n",
              "      <th>0</th>\n",
              "      <td>2</td>\n",
              "      <td>0</td>\n",
              "      <td>5</td>\n",
              "      <td>5</td>\n",
              "      <td>5</td>\n",
              "      <td>4</td>\n",
              "      <td>2</td>\n",
              "      <td>3</td>\n",
              "      <td>2</td>\n",
              "      <td>2</td>\n",
              "      <td>3</td>\n",
              "      <td>2</td>\n",
              "      <td>4</td>\n",
              "      <td>2</td>\n",
              "      <td>1</td>\n",
              "      <td>0</td>\n",
              "      <td>0</td>\n",
              "      <td>0</td>\n",
              "      <td>0</td>\n",
              "      <td>272</td>\n",
              "      <td>0</td>\n",
              "      <td>0</td>\n",
              "      <td>1</td>\n",
              "      <td>0</td>\n",
              "      <td>0</td>\n",
              "    </tr>\n",
              "    <tr>\n",
              "      <th>1</th>\n",
              "      <td>1</td>\n",
              "      <td>1</td>\n",
              "      <td>5</td>\n",
              "      <td>1</td>\n",
              "      <td>2</td>\n",
              "      <td>4</td>\n",
              "      <td>1</td>\n",
              "      <td>4</td>\n",
              "      <td>4</td>\n",
              "      <td>5</td>\n",
              "      <td>2</td>\n",
              "      <td>1</td>\n",
              "      <td>2</td>\n",
              "      <td>4</td>\n",
              "      <td>4</td>\n",
              "      <td>1</td>\n",
              "      <td>0</td>\n",
              "      <td>1</td>\n",
              "      <td>1</td>\n",
              "      <td>2200</td>\n",
              "      <td>0</td>\n",
              "      <td>0</td>\n",
              "      <td>1</td>\n",
              "      <td>0</td>\n",
              "      <td>0</td>\n",
              "    </tr>\n",
              "    <tr>\n",
              "      <th>2</th>\n",
              "      <td>2</td>\n",
              "      <td>0</td>\n",
              "      <td>2</td>\n",
              "      <td>2</td>\n",
              "      <td>2</td>\n",
              "      <td>2</td>\n",
              "      <td>4</td>\n",
              "      <td>5</td>\n",
              "      <td>5</td>\n",
              "      <td>5</td>\n",
              "      <td>5</td>\n",
              "      <td>5</td>\n",
              "      <td>4</td>\n",
              "      <td>5</td>\n",
              "      <td>5</td>\n",
              "      <td>0</td>\n",
              "      <td>0</td>\n",
              "      <td>0</td>\n",
              "      <td>0</td>\n",
              "      <td>1061</td>\n",
              "      <td>0</td>\n",
              "      <td>0</td>\n",
              "      <td>1</td>\n",
              "      <td>0</td>\n",
              "      <td>0</td>\n",
              "    </tr>\n",
              "    <tr>\n",
              "      <th>3</th>\n",
              "      <td>3</td>\n",
              "      <td>1</td>\n",
              "      <td>2</td>\n",
              "      <td>3</td>\n",
              "      <td>2</td>\n",
              "      <td>3</td>\n",
              "      <td>2</td>\n",
              "      <td>3</td>\n",
              "      <td>3</td>\n",
              "      <td>3</td>\n",
              "      <td>3</td>\n",
              "      <td>3</td>\n",
              "      <td>4</td>\n",
              "      <td>3</td>\n",
              "      <td>3</td>\n",
              "      <td>0</td>\n",
              "      <td>0</td>\n",
              "      <td>0</td>\n",
              "      <td>0</td>\n",
              "      <td>780</td>\n",
              "      <td>0</td>\n",
              "      <td>0</td>\n",
              "      <td>1</td>\n",
              "      <td>0</td>\n",
              "      <td>0</td>\n",
              "    </tr>\n",
              "    <tr>\n",
              "      <th>4</th>\n",
              "      <td>3</td>\n",
              "      <td>1</td>\n",
              "      <td>3</td>\n",
              "      <td>3</td>\n",
              "      <td>3</td>\n",
              "      <td>2</td>\n",
              "      <td>4</td>\n",
              "      <td>5</td>\n",
              "      <td>4</td>\n",
              "      <td>4</td>\n",
              "      <td>4</td>\n",
              "      <td>4</td>\n",
              "      <td>4</td>\n",
              "      <td>4</td>\n",
              "      <td>4</td>\n",
              "      <td>0</td>\n",
              "      <td>0</td>\n",
              "      <td>0</td>\n",
              "      <td>0</td>\n",
              "      <td>1981</td>\n",
              "      <td>0</td>\n",
              "      <td>0</td>\n",
              "      <td>1</td>\n",
              "      <td>0</td>\n",
              "      <td>0</td>\n",
              "    </tr>\n",
              "  </tbody>\n",
              "</table>\n",
              "</div>"
            ],
            "text/plain": [
              "   Seat_comfort  Seat_Class  Arrival_time_convenient  ...  Age_45  Age_60  Age_80\n",
              "0             2           0                        5  ...       1       0       0\n",
              "1             1           1                        5  ...       1       0       0\n",
              "2             2           0                        2  ...       1       0       0\n",
              "3             3           1                        2  ...       1       0       0\n",
              "4             3           1                        3  ...       1       0       0\n",
              "\n",
              "[5 rows x 25 columns]"
            ]
          },
          "metadata": {}
        },
        {
          "output_type": "display_data",
          "data": {
            "text/html": [
              "<div>\n",
              "<style scoped>\n",
              "    .dataframe tbody tr th:only-of-type {\n",
              "        vertical-align: middle;\n",
              "    }\n",
              "\n",
              "    .dataframe tbody tr th {\n",
              "        vertical-align: top;\n",
              "    }\n",
              "\n",
              "    .dataframe thead th {\n",
              "        text-align: right;\n",
              "    }\n",
              "</style>\n",
              "<table border=\"1\" class=\"dataframe\">\n",
              "  <thead>\n",
              "    <tr style=\"text-align: right;\">\n",
              "      <th></th>\n",
              "      <th>Seat_comfort</th>\n",
              "      <th>Seat_Class</th>\n",
              "      <th>Arrival_time_convenient</th>\n",
              "      <th>Catering</th>\n",
              "      <th>Platform_location</th>\n",
              "      <th>Onboardwifi_service</th>\n",
              "      <th>Onboard_entertainment</th>\n",
              "      <th>Online_support</th>\n",
              "      <th>Onlinebooking_Ease</th>\n",
              "      <th>Onboard_service</th>\n",
              "      <th>Leg_room</th>\n",
              "      <th>Baggage_handling</th>\n",
              "      <th>Checkin_service</th>\n",
              "      <th>Cleanliness</th>\n",
              "      <th>Online_boarding</th>\n",
              "      <th>Gender</th>\n",
              "      <th>CustomerType</th>\n",
              "      <th>TypeTravel</th>\n",
              "      <th>Travel_Class</th>\n",
              "      <th>Travel_Distance</th>\n",
              "      <th>Age_25</th>\n",
              "      <th>Age_35</th>\n",
              "      <th>Age_45</th>\n",
              "      <th>Age_60</th>\n",
              "      <th>Age_80</th>\n",
              "    </tr>\n",
              "  </thead>\n",
              "  <tbody>\n",
              "    <tr>\n",
              "      <th>0</th>\n",
              "      <td>3</td>\n",
              "      <td>0</td>\n",
              "      <td>3</td>\n",
              "      <td>3</td>\n",
              "      <td>3</td>\n",
              "      <td>2</td>\n",
              "      <td>5</td>\n",
              "      <td>4</td>\n",
              "      <td>5</td>\n",
              "      <td>5</td>\n",
              "      <td>5</td>\n",
              "      <td>5</td>\n",
              "      <td>4</td>\n",
              "      <td>5</td>\n",
              "      <td>1</td>\n",
              "      <td>0</td>\n",
              "      <td>0</td>\n",
              "      <td>0</td>\n",
              "      <td>0</td>\n",
              "      <td>532</td>\n",
              "      <td>0</td>\n",
              "      <td>1</td>\n",
              "      <td>0</td>\n",
              "      <td>0</td>\n",
              "      <td>0</td>\n",
              "    </tr>\n",
              "    <tr>\n",
              "      <th>1</th>\n",
              "      <td>0</td>\n",
              "      <td>1</td>\n",
              "      <td>4</td>\n",
              "      <td>1</td>\n",
              "      <td>3</td>\n",
              "      <td>3</td>\n",
              "      <td>1</td>\n",
              "      <td>3</td>\n",
              "      <td>3</td>\n",
              "      <td>5</td>\n",
              "      <td>3</td>\n",
              "      <td>4</td>\n",
              "      <td>3</td>\n",
              "      <td>5</td>\n",
              "      <td>3</td>\n",
              "      <td>0</td>\n",
              "      <td>1</td>\n",
              "      <td>0</td>\n",
              "      <td>0</td>\n",
              "      <td>1425</td>\n",
              "      <td>1</td>\n",
              "      <td>0</td>\n",
              "      <td>0</td>\n",
              "      <td>0</td>\n",
              "      <td>0</td>\n",
              "    </tr>\n",
              "    <tr>\n",
              "      <th>2</th>\n",
              "      <td>5</td>\n",
              "      <td>1</td>\n",
              "      <td>5</td>\n",
              "      <td>5</td>\n",
              "      <td>5</td>\n",
              "      <td>5</td>\n",
              "      <td>5</td>\n",
              "      <td>5</td>\n",
              "      <td>2</td>\n",
              "      <td>2</td>\n",
              "      <td>2</td>\n",
              "      <td>2</td>\n",
              "      <td>4</td>\n",
              "      <td>2</td>\n",
              "      <td>5</td>\n",
              "      <td>1</td>\n",
              "      <td>0</td>\n",
              "      <td>0</td>\n",
              "      <td>0</td>\n",
              "      <td>2832</td>\n",
              "      <td>0</td>\n",
              "      <td>0</td>\n",
              "      <td>0</td>\n",
              "      <td>1</td>\n",
              "      <td>0</td>\n",
              "    </tr>\n",
              "    <tr>\n",
              "      <th>3</th>\n",
              "      <td>3</td>\n",
              "      <td>0</td>\n",
              "      <td>5</td>\n",
              "      <td>3</td>\n",
              "      <td>5</td>\n",
              "      <td>1</td>\n",
              "      <td>3</td>\n",
              "      <td>5</td>\n",
              "      <td>1</td>\n",
              "      <td>3</td>\n",
              "      <td>2</td>\n",
              "      <td>5</td>\n",
              "      <td>5</td>\n",
              "      <td>5</td>\n",
              "      <td>1</td>\n",
              "      <td>0</td>\n",
              "      <td>0</td>\n",
              "      <td>1</td>\n",
              "      <td>1</td>\n",
              "      <td>1352</td>\n",
              "      <td>0</td>\n",
              "      <td>1</td>\n",
              "      <td>0</td>\n",
              "      <td>0</td>\n",
              "      <td>0</td>\n",
              "    </tr>\n",
              "    <tr>\n",
              "      <th>4</th>\n",
              "      <td>5</td>\n",
              "      <td>1</td>\n",
              "      <td>0</td>\n",
              "      <td>5</td>\n",
              "      <td>2</td>\n",
              "      <td>5</td>\n",
              "      <td>5</td>\n",
              "      <td>5</td>\n",
              "      <td>5</td>\n",
              "      <td>4</td>\n",
              "      <td>3</td>\n",
              "      <td>5</td>\n",
              "      <td>5</td>\n",
              "      <td>5</td>\n",
              "      <td>5</td>\n",
              "      <td>1</td>\n",
              "      <td>1</td>\n",
              "      <td>0</td>\n",
              "      <td>0</td>\n",
              "      <td>1610</td>\n",
              "      <td>1</td>\n",
              "      <td>0</td>\n",
              "      <td>0</td>\n",
              "      <td>0</td>\n",
              "      <td>0</td>\n",
              "    </tr>\n",
              "  </tbody>\n",
              "</table>\n",
              "</div>"
            ],
            "text/plain": [
              "   Seat_comfort  Seat_Class  Arrival_time_convenient  ...  Age_45  Age_60  Age_80\n",
              "0             3           0                        3  ...       0       0       0\n",
              "1             0           1                        4  ...       0       0       0\n",
              "2             5           1                        5  ...       0       1       0\n",
              "3             3           0                        5  ...       0       0       0\n",
              "4             5           1                        0  ...       0       0       0\n",
              "\n",
              "[5 rows x 25 columns]"
            ]
          },
          "metadata": {}
        }
      ]
    },
    {
      "cell_type": "code",
      "metadata": {
        "colab": {
          "base_uri": "https://localhost:8080/",
          "height": 405
        },
        "id": "g_fRAfHZfLs9",
        "outputId": "f10a4008-676d-4f02-85de-19964a2b67bc"
      },
      "source": [
        "#scaling the data sets with zscores\n",
        "from scipy.stats import zscore\n",
        "df_scaled = x.apply(zscore)\n",
        "display(df_scaled.head())\n",
        "\n",
        "\n",
        "df_test = x_test.apply(zscore)\n",
        "display(df_test.head())"
      ],
      "execution_count": 42,
      "outputs": [
        {
          "output_type": "display_data",
          "data": {
            "text/html": [
              "<div>\n",
              "<style scoped>\n",
              "    .dataframe tbody tr th:only-of-type {\n",
              "        vertical-align: middle;\n",
              "    }\n",
              "\n",
              "    .dataframe tbody tr th {\n",
              "        vertical-align: top;\n",
              "    }\n",
              "\n",
              "    .dataframe thead th {\n",
              "        text-align: right;\n",
              "    }\n",
              "</style>\n",
              "<table border=\"1\" class=\"dataframe\">\n",
              "  <thead>\n",
              "    <tr style=\"text-align: right;\">\n",
              "      <th></th>\n",
              "      <th>Seat_comfort</th>\n",
              "      <th>Seat_Class</th>\n",
              "      <th>Arrival_time_convenient</th>\n",
              "      <th>Catering</th>\n",
              "      <th>Platform_location</th>\n",
              "      <th>Onboardwifi_service</th>\n",
              "      <th>Onboard_entertainment</th>\n",
              "      <th>Online_support</th>\n",
              "      <th>Onlinebooking_Ease</th>\n",
              "      <th>Onboard_service</th>\n",
              "      <th>Leg_room</th>\n",
              "      <th>Baggage_handling</th>\n",
              "      <th>Checkin_service</th>\n",
              "      <th>Cleanliness</th>\n",
              "      <th>Online_boarding</th>\n",
              "      <th>Gender</th>\n",
              "      <th>CustomerType</th>\n",
              "      <th>TypeTravel</th>\n",
              "      <th>Travel_Class</th>\n",
              "      <th>Travel_Distance</th>\n",
              "      <th>Age_25</th>\n",
              "      <th>Age_35</th>\n",
              "      <th>Age_45</th>\n",
              "      <th>Age_60</th>\n",
              "      <th>Age_80</th>\n",
              "    </tr>\n",
              "  </thead>\n",
              "  <tbody>\n",
              "    <tr>\n",
              "      <th>0</th>\n",
              "      <td>-0.602903</td>\n",
              "      <td>-0.994811</td>\n",
              "      <td>1.288950</td>\n",
              "      <td>1.549973</td>\n",
              "      <td>1.536013</td>\n",
              "      <td>0.569615</td>\n",
              "      <td>-1.027150</td>\n",
              "      <td>-0.397449</td>\n",
              "      <td>-1.126732</td>\n",
              "      <td>-1.235539</td>\n",
              "      <td>-0.374292</td>\n",
              "      <td>-1.468733</td>\n",
              "      <td>0.521510</td>\n",
              "      <td>-1.479319</td>\n",
              "      <td>-1.811942</td>\n",
              "      <td>-0.985222</td>\n",
              "      <td>-0.445082</td>\n",
              "      <td>-0.625411</td>\n",
              "      <td>-1.046703</td>\n",
              "      <td>-1.660469</td>\n",
              "      <td>-0.412272</td>\n",
              "      <td>-0.684704</td>\n",
              "      <td>1.40772</td>\n",
              "      <td>-0.478846</td>\n",
              "      <td>-0.11758</td>\n",
              "    </tr>\n",
              "    <tr>\n",
              "      <th>1</th>\n",
              "      <td>-1.321256</td>\n",
              "      <td>1.005216</td>\n",
              "      <td>1.288950</td>\n",
              "      <td>-1.356788</td>\n",
              "      <td>-0.757533</td>\n",
              "      <td>0.569615</td>\n",
              "      <td>-1.770047</td>\n",
              "      <td>0.367298</td>\n",
              "      <td>0.405697</td>\n",
              "      <td>1.213628</td>\n",
              "      <td>-1.148445</td>\n",
              "      <td>-2.334097</td>\n",
              "      <td>-1.065885</td>\n",
              "      <td>0.256872</td>\n",
              "      <td>0.499265</td>\n",
              "      <td>1.014999</td>\n",
              "      <td>-0.445082</td>\n",
              "      <td>1.598950</td>\n",
              "      <td>0.955380</td>\n",
              "      <td>0.215099</td>\n",
              "      <td>-0.412272</td>\n",
              "      <td>-0.684704</td>\n",
              "      <td>1.40772</td>\n",
              "      <td>-0.478846</td>\n",
              "      <td>-0.11758</td>\n",
              "    </tr>\n",
              "    <tr>\n",
              "      <th>2</th>\n",
              "      <td>-0.602903</td>\n",
              "      <td>-0.994811</td>\n",
              "      <td>-0.735667</td>\n",
              "      <td>-0.630097</td>\n",
              "      <td>-0.757533</td>\n",
              "      <td>-0.946258</td>\n",
              "      <td>0.458644</td>\n",
              "      <td>1.132046</td>\n",
              "      <td>1.171912</td>\n",
              "      <td>1.213628</td>\n",
              "      <td>1.174012</td>\n",
              "      <td>1.127360</td>\n",
              "      <td>0.521510</td>\n",
              "      <td>1.124967</td>\n",
              "      <td>1.269667</td>\n",
              "      <td>-0.985222</td>\n",
              "      <td>-0.445082</td>\n",
              "      <td>-0.625411</td>\n",
              "      <td>-1.046703</td>\n",
              "      <td>-0.892926</td>\n",
              "      <td>-0.412272</td>\n",
              "      <td>-0.684704</td>\n",
              "      <td>1.40772</td>\n",
              "      <td>-0.478846</td>\n",
              "      <td>-0.11758</td>\n",
              "    </tr>\n",
              "    <tr>\n",
              "      <th>3</th>\n",
              "      <td>0.115449</td>\n",
              "      <td>1.005216</td>\n",
              "      <td>-0.735667</td>\n",
              "      <td>0.096593</td>\n",
              "      <td>-0.757533</td>\n",
              "      <td>-0.188322</td>\n",
              "      <td>-1.027150</td>\n",
              "      <td>-0.397449</td>\n",
              "      <td>-0.360518</td>\n",
              "      <td>-0.419150</td>\n",
              "      <td>-0.374292</td>\n",
              "      <td>-0.603368</td>\n",
              "      <td>0.521510</td>\n",
              "      <td>-0.611223</td>\n",
              "      <td>-0.271137</td>\n",
              "      <td>-0.985222</td>\n",
              "      <td>-0.445082</td>\n",
              "      <td>-0.625411</td>\n",
              "      <td>-1.046703</td>\n",
              "      <td>-1.166284</td>\n",
              "      <td>-0.412272</td>\n",
              "      <td>-0.684704</td>\n",
              "      <td>1.40772</td>\n",
              "      <td>-0.478846</td>\n",
              "      <td>-0.11758</td>\n",
              "    </tr>\n",
              "    <tr>\n",
              "      <th>4</th>\n",
              "      <td>0.115449</td>\n",
              "      <td>1.005216</td>\n",
              "      <td>-0.060795</td>\n",
              "      <td>0.096593</td>\n",
              "      <td>0.006983</td>\n",
              "      <td>-0.946258</td>\n",
              "      <td>0.458644</td>\n",
              "      <td>1.132046</td>\n",
              "      <td>0.405697</td>\n",
              "      <td>0.397239</td>\n",
              "      <td>0.399860</td>\n",
              "      <td>0.261996</td>\n",
              "      <td>0.521510</td>\n",
              "      <td>0.256872</td>\n",
              "      <td>0.499265</td>\n",
              "      <td>-0.985222</td>\n",
              "      <td>-0.445082</td>\n",
              "      <td>-0.625411</td>\n",
              "      <td>-1.046703</td>\n",
              "      <td>0.002054</td>\n",
              "      <td>-0.412272</td>\n",
              "      <td>-0.684704</td>\n",
              "      <td>1.40772</td>\n",
              "      <td>-0.478846</td>\n",
              "      <td>-0.11758</td>\n",
              "    </tr>\n",
              "  </tbody>\n",
              "</table>\n",
              "</div>"
            ],
            "text/plain": [
              "   Seat_comfort  Seat_Class  ...    Age_60   Age_80\n",
              "0     -0.602903   -0.994811  ... -0.478846 -0.11758\n",
              "1     -1.321256    1.005216  ... -0.478846 -0.11758\n",
              "2     -0.602903   -0.994811  ... -0.478846 -0.11758\n",
              "3      0.115449    1.005216  ... -0.478846 -0.11758\n",
              "4      0.115449    1.005216  ... -0.478846 -0.11758\n",
              "\n",
              "[5 rows x 25 columns]"
            ]
          },
          "metadata": {}
        },
        {
          "output_type": "display_data",
          "data": {
            "text/html": [
              "<div>\n",
              "<style scoped>\n",
              "    .dataframe tbody tr th:only-of-type {\n",
              "        vertical-align: middle;\n",
              "    }\n",
              "\n",
              "    .dataframe tbody tr th {\n",
              "        vertical-align: top;\n",
              "    }\n",
              "\n",
              "    .dataframe thead th {\n",
              "        text-align: right;\n",
              "    }\n",
              "</style>\n",
              "<table border=\"1\" class=\"dataframe\">\n",
              "  <thead>\n",
              "    <tr style=\"text-align: right;\">\n",
              "      <th></th>\n",
              "      <th>Seat_comfort</th>\n",
              "      <th>Seat_Class</th>\n",
              "      <th>Arrival_time_convenient</th>\n",
              "      <th>Catering</th>\n",
              "      <th>Platform_location</th>\n",
              "      <th>Onboardwifi_service</th>\n",
              "      <th>Onboard_entertainment</th>\n",
              "      <th>Online_support</th>\n",
              "      <th>Onlinebooking_Ease</th>\n",
              "      <th>Onboard_service</th>\n",
              "      <th>Leg_room</th>\n",
              "      <th>Baggage_handling</th>\n",
              "      <th>Checkin_service</th>\n",
              "      <th>Cleanliness</th>\n",
              "      <th>Online_boarding</th>\n",
              "      <th>Gender</th>\n",
              "      <th>CustomerType</th>\n",
              "      <th>TypeTravel</th>\n",
              "      <th>Travel_Class</th>\n",
              "      <th>Travel_Distance</th>\n",
              "      <th>Age_25</th>\n",
              "      <th>Age_35</th>\n",
              "      <th>Age_45</th>\n",
              "      <th>Age_60</th>\n",
              "      <th>Age_80</th>\n",
              "    </tr>\n",
              "  </thead>\n",
              "  <tbody>\n",
              "    <tr>\n",
              "      <th>0</th>\n",
              "      <td>0.117190</td>\n",
              "      <td>-1.003320</td>\n",
              "      <td>-0.055289</td>\n",
              "      <td>0.098743</td>\n",
              "      <td>0.008010</td>\n",
              "      <td>-0.950595</td>\n",
              "      <td>1.200083</td>\n",
              "      <td>0.367859</td>\n",
              "      <td>1.166951</td>\n",
              "      <td>1.218455</td>\n",
              "      <td>1.166484</td>\n",
              "      <td>1.129792</td>\n",
              "      <td>0.524797</td>\n",
              "      <td>1.119469</td>\n",
              "      <td>-1.810575</td>\n",
              "      <td>-0.983397</td>\n",
              "      <td>-0.444331</td>\n",
              "      <td>-0.618071</td>\n",
              "      <td>-1.038491</td>\n",
              "      <td>-1.420638</td>\n",
              "      <td>-0.413432</td>\n",
              "      <td>1.459682</td>\n",
              "      <td>-0.706154</td>\n",
              "      <td>-0.483377</td>\n",
              "      <td>-0.112378</td>\n",
              "    </tr>\n",
              "    <tr>\n",
              "      <th>1</th>\n",
              "      <td>-2.036384</td>\n",
              "      <td>0.996691</td>\n",
              "      <td>0.620210</td>\n",
              "      <td>-1.357833</td>\n",
              "      <td>0.008010</td>\n",
              "      <td>-0.191237</td>\n",
              "      <td>-1.773978</td>\n",
              "      <td>-0.400356</td>\n",
              "      <td>-0.365284</td>\n",
              "      <td>1.218455</td>\n",
              "      <td>-0.382649</td>\n",
              "      <td>0.264300</td>\n",
              "      <td>-0.268504</td>\n",
              "      <td>1.119469</td>\n",
              "      <td>-0.272589</td>\n",
              "      <td>-0.983397</td>\n",
              "      <td>2.250573</td>\n",
              "      <td>-0.618071</td>\n",
              "      <td>-1.038491</td>\n",
              "      <td>-0.548819</td>\n",
              "      <td>2.418779</td>\n",
              "      <td>-0.685081</td>\n",
              "      <td>-0.706154</td>\n",
              "      <td>-0.483377</td>\n",
              "      <td>-0.112378</td>\n",
              "    </tr>\n",
              "    <tr>\n",
              "      <th>2</th>\n",
              "      <td>1.552905</td>\n",
              "      <td>0.996691</td>\n",
              "      <td>1.295708</td>\n",
              "      <td>1.555318</td>\n",
              "      <td>1.545325</td>\n",
              "      <td>1.327480</td>\n",
              "      <td>1.200083</td>\n",
              "      <td>1.136075</td>\n",
              "      <td>-1.131402</td>\n",
              "      <td>-1.216905</td>\n",
              "      <td>-1.157216</td>\n",
              "      <td>-1.466682</td>\n",
              "      <td>0.524797</td>\n",
              "      <td>-1.487499</td>\n",
              "      <td>1.265398</td>\n",
              "      <td>1.016883</td>\n",
              "      <td>-0.444331</td>\n",
              "      <td>-0.618071</td>\n",
              "      <td>-1.038491</td>\n",
              "      <td>0.824810</td>\n",
              "      <td>-0.413432</td>\n",
              "      <td>-0.685081</td>\n",
              "      <td>-0.706154</td>\n",
              "      <td>2.068779</td>\n",
              "      <td>-0.112378</td>\n",
              "    </tr>\n",
              "    <tr>\n",
              "      <th>3</th>\n",
              "      <td>0.117190</td>\n",
              "      <td>-1.003320</td>\n",
              "      <td>1.295708</td>\n",
              "      <td>0.098743</td>\n",
              "      <td>1.545325</td>\n",
              "      <td>-1.709954</td>\n",
              "      <td>-0.286947</td>\n",
              "      <td>1.136075</td>\n",
              "      <td>-1.897520</td>\n",
              "      <td>-0.405118</td>\n",
              "      <td>-1.157216</td>\n",
              "      <td>1.129792</td>\n",
              "      <td>1.318099</td>\n",
              "      <td>1.119469</td>\n",
              "      <td>-1.810575</td>\n",
              "      <td>-0.983397</td>\n",
              "      <td>-0.444331</td>\n",
              "      <td>1.617938</td>\n",
              "      <td>0.962936</td>\n",
              "      <td>-0.620087</td>\n",
              "      <td>-0.413432</td>\n",
              "      <td>1.459682</td>\n",
              "      <td>-0.706154</td>\n",
              "      <td>-0.483377</td>\n",
              "      <td>-0.112378</td>\n",
              "    </tr>\n",
              "    <tr>\n",
              "      <th>4</th>\n",
              "      <td>1.552905</td>\n",
              "      <td>0.996691</td>\n",
              "      <td>-2.081785</td>\n",
              "      <td>1.555318</td>\n",
              "      <td>-0.760648</td>\n",
              "      <td>1.327480</td>\n",
              "      <td>1.200083</td>\n",
              "      <td>1.136075</td>\n",
              "      <td>1.166951</td>\n",
              "      <td>0.406669</td>\n",
              "      <td>-0.382649</td>\n",
              "      <td>1.129792</td>\n",
              "      <td>1.318099</td>\n",
              "      <td>1.119469</td>\n",
              "      <td>1.265398</td>\n",
              "      <td>1.016883</td>\n",
              "      <td>2.250573</td>\n",
              "      <td>-0.618071</td>\n",
              "      <td>-1.038491</td>\n",
              "      <td>-0.368206</td>\n",
              "      <td>2.418779</td>\n",
              "      <td>-0.685081</td>\n",
              "      <td>-0.706154</td>\n",
              "      <td>-0.483377</td>\n",
              "      <td>-0.112378</td>\n",
              "    </tr>\n",
              "  </tbody>\n",
              "</table>\n",
              "</div>"
            ],
            "text/plain": [
              "   Seat_comfort  Seat_Class  ...    Age_60    Age_80\n",
              "0      0.117190   -1.003320  ... -0.483377 -0.112378\n",
              "1     -2.036384    0.996691  ... -0.483377 -0.112378\n",
              "2      1.552905    0.996691  ...  2.068779 -0.112378\n",
              "3      0.117190   -1.003320  ... -0.483377 -0.112378\n",
              "4      1.552905    0.996691  ... -0.483377 -0.112378\n",
              "\n",
              "[5 rows x 25 columns]"
            ]
          },
          "metadata": {}
        }
      ]
    },
    {
      "cell_type": "code",
      "metadata": {
        "colab": {
          "base_uri": "https://localhost:8080/",
          "height": 88
        },
        "id": "db80M_7kfSIY",
        "outputId": "2e80fb9b-1dae-4f27-f22f-ab0738798b97"
      },
      "source": [
        "#performing train-test split of (80:20) on the training data\n",
        "X_train, X_test, Y_train, Y_test = train_test_split(df_scaled, y, test_size= 0.20, random_state=13)\n",
        "\n",
        "display(X_train.shape)\n",
        "display(X_test.shape)\n",
        "display(Y_train.shape)\n",
        "display(Y_test.shape)"
      ],
      "execution_count": 43,
      "outputs": [
        {
          "output_type": "display_data",
          "data": {
            "text/plain": [
              "(75503, 25)"
            ]
          },
          "metadata": {}
        },
        {
          "output_type": "display_data",
          "data": {
            "text/plain": [
              "(18876, 25)"
            ]
          },
          "metadata": {}
        },
        {
          "output_type": "display_data",
          "data": {
            "text/plain": [
              "(75503,)"
            ]
          },
          "metadata": {}
        },
        {
          "output_type": "display_data",
          "data": {
            "text/plain": [
              "(18876,)"
            ]
          },
          "metadata": {}
        }
      ]
    },
    {
      "cell_type": "markdown",
      "metadata": {
        "id": "Q0yqYl2cjM8u"
      },
      "source": [
        "# Model Building"
      ]
    },
    {
      "cell_type": "code",
      "metadata": {
        "id": "lNoWxmNmjZ9I"
      },
      "source": [
        "dTree = DecisionTreeClassifier(random_state =9, max_depth=15)\n",
        "dTree1 = DecisionTreeClassifier(random_state =9, max_depth=15, min_samples_split= 75, min_samples_leaf = 15)\n",
        "rf = RandomForestClassifier(n_estimators=220, max_depth= 20, max_features= 15, random_state = 100)\n",
        "rf1 = RandomForestClassifier(n_estimators=100, random_state = 100)\n",
        "bgg = BaggingClassifier(random_state=5)\n",
        "bgg1 = BaggingClassifier(base_estimator=dTree, n_estimators=50, random_state=500, max_features= 10)\n",
        "grad = GradientBoostingClassifier(random_state= 3000, learning_rate=0.1, n_estimators=100)\n",
        "ada1 = AdaBoostClassifier(base_estimator=rf, n_estimators=22, learning_rate=0.1, random_state= 88)\n",
        "ada2 = AdaBoostClassifier(base_estimator=dTree, n_estimators=20, learning_rate=0.1, random_state= 88)\n",
        "gb = GaussianNB()\n",
        "lr = LogisticRegression(random_state= 100, penalty='l2', tol=0.0001)\n",
        "lr1 = LogisticRegression(random_state= 70, penalty='l1', solver = 'saga', tol=0.0001)\n",
        "#clt = SVC(gamma = 0.25, C = 2)"
      ],
      "execution_count": 44,
      "outputs": []
    },
    {
      "cell_type": "code",
      "metadata": {
        "colab": {
          "base_uri": "https://localhost:8080/",
          "height": 232
        },
        "id": "pUP3J0lXkWJe",
        "outputId": "d9acda23-ed55-4dbc-e78b-9ae5b15c7064"
      },
      "source": [
        "model = [dTree, dTree1, rf, rf1, bgg, bgg1, grad, ada1, ada2, gb, lr, lr1]\n",
        "\n",
        "for i in model: #accuracy on train set from training data\n",
        "    i.fit(X_train , Y_train)\n",
        "    y_predict = i.predict(X_train)\n",
        "    display(accuracy_score(Y_train, y_predict))"
      ],
      "execution_count": 45,
      "outputs": [
        {
          "output_type": "display_data",
          "data": {
            "text/plain": [
              "0.9693257221567355"
            ]
          },
          "metadata": {}
        },
        {
          "output_type": "display_data",
          "data": {
            "text/plain": [
              "0.9413135901884694"
            ]
          },
          "metadata": {}
        },
        {
          "output_type": "display_data",
          "data": {
            "text/plain": [
              "0.9952584665509979"
            ]
          },
          "metadata": {}
        },
        {
          "output_type": "display_data",
          "data": {
            "text/plain": [
              "1.0"
            ]
          },
          "metadata": {}
        },
        {
          "output_type": "display_data",
          "data": {
            "text/plain": [
              "0.9963312716051018"
            ]
          },
          "metadata": {}
        },
        {
          "output_type": "display_data",
          "data": {
            "text/plain": [
              "0.9657099717892005"
            ]
          },
          "metadata": {}
        },
        {
          "output_type": "display_data",
          "data": {
            "text/plain": [
              "0.9214070964067653"
            ]
          },
          "metadata": {}
        },
        {
          "output_type": "display_data",
          "data": {
            "text/plain": [
              "0.9983974146722647"
            ]
          },
          "metadata": {}
        },
        {
          "output_type": "display_data",
          "data": {
            "text/plain": [
              "1.0"
            ]
          },
          "metadata": {}
        },
        {
          "output_type": "display_data",
          "data": {
            "text/plain": [
              "0.8149609949273539"
            ]
          },
          "metadata": {}
        },
        {
          "output_type": "display_data",
          "data": {
            "text/plain": [
              "0.8310265817252295"
            ]
          },
          "metadata": {}
        },
        {
          "output_type": "display_data",
          "data": {
            "text/plain": [
              "0.8310265817252295"
            ]
          },
          "metadata": {}
        }
      ]
    },
    {
      "cell_type": "code",
      "metadata": {
        "colab": {
          "base_uri": "https://localhost:8080/",
          "height": 232
        },
        "id": "06un5YFco_N7",
        "outputId": "605eb6b3-7862-464d-abeb-eed02b553cd9"
      },
      "source": [
        "for i in model:  #accuracy on test set from training data\n",
        "    i.fit(X_train , Y_train)\n",
        "    y_predict_test = i.predict(X_test)\n",
        "    display(accuracy_score(Y_test, y_predict_test))"
      ],
      "execution_count": 46,
      "outputs": [
        {
          "output_type": "display_data",
          "data": {
            "text/plain": [
              "0.934043229497775"
            ]
          },
          "metadata": {}
        },
        {
          "output_type": "display_data",
          "data": {
            "text/plain": [
              "0.9368510277601186"
            ]
          },
          "metadata": {}
        },
        {
          "output_type": "display_data",
          "data": {
            "text/plain": [
              "0.9532739987285442"
            ]
          },
          "metadata": {}
        },
        {
          "output_type": "display_data",
          "data": {
            "text/plain": [
              "0.9516846789574063"
            ]
          },
          "metadata": {}
        },
        {
          "output_type": "display_data",
          "data": {
            "text/plain": [
              "0.9447976266158085"
            ]
          },
          "metadata": {}
        },
        {
          "output_type": "display_data",
          "data": {
            "text/plain": [
              "0.9299639754185208"
            ]
          },
          "metadata": {}
        },
        {
          "output_type": "display_data",
          "data": {
            "text/plain": [
              "0.9239245602881967"
            ]
          },
          "metadata": {}
        },
        {
          "output_type": "display_data",
          "data": {
            "text/plain": [
              "0.9540156812884085"
            ]
          },
          "metadata": {}
        },
        {
          "output_type": "display_data",
          "data": {
            "text/plain": [
              "0.9463339690612418"
            ]
          },
          "metadata": {}
        },
        {
          "output_type": "display_data",
          "data": {
            "text/plain": [
              "0.8135727908455181"
            ]
          },
          "metadata": {}
        },
        {
          "output_type": "display_data",
          "data": {
            "text/plain": [
              "0.8330684467048104"
            ]
          },
          "metadata": {}
        },
        {
          "output_type": "display_data",
          "data": {
            "text/plain": [
              "0.8330154693791058"
            ]
          },
          "metadata": {}
        }
      ]
    },
    {
      "cell_type": "markdown",
      "metadata": {
        "id": "5W1HDmsPud_J"
      },
      "source": [
        "----- Trial and Error Block for Ada Boosting --------\n",
        "ada1 = AdaBoostClassifier(base_estimator=rf, n_estimators=32, learning_rate=0.1, random_state= 88) ada1.fit(X_train , Y_train) y_predict = ada1.predict(X_train) display(accuracy_score(Y_train, y_predict))\n",
        "\n",
        "y_predict_test = ada1.predict(X_test) display(accuracy_score(Y_test, y_predict_test))"
      ]
    },
    {
      "cell_type": "markdown",
      "metadata": {
        "id": "32ClveMLuiYr"
      },
      "source": [
        "Param tuning on Ada Boosting with cv = 5\n",
        "param_grid1 = { 'n_estimators': [22, 32], 'learning_rate': [0.1, 1.0, 0.01], 'base_estimator': ['rf, 'dTree'] }\n",
        "\n",
        "ada = AdaBoostClassifier(base_estimator=rf, random_state= 88) grid_search1 = GridSearchCV(estimator = ada, param_grid = param_grid1, cv = 5)\n",
        "\n",
        "grid_search1.fit(X_train,Y_train) y_predict = grid_search1.predict(X_train) display(accuracy_score(Y_train, y_predict))\n",
        "\n",
        "y_predict_test = grid_search.predict(X_test) display(accuracy_score(Y_test, y_predict_test))"
      ]
    },
    {
      "cell_type": "code",
      "metadata": {
        "colab": {
          "base_uri": "https://localhost:8080/",
          "height": 52
        },
        "id": "N1e0Zo8Dugtr",
        "outputId": "8a285d0d-ccdd-4166-db2d-63501ecc1223"
      },
      "source": [
        "##----- Trial and Error Block for Random Forest --------\n",
        "rf = RandomForestClassifier(n_estimators=230, max_depth= 20, max_features= 15, random_state = 100)\n",
        "rf.fit(X_train , Y_train)\n",
        "y_predict = rf.predict(X_train)\n",
        "display(accuracy_score(Y_train, y_predict))\n",
        "\n",
        "y_predict_test = rf.predict(X_test)\n",
        "display(accuracy_score(Y_test, y_predict_test))"
      ],
      "execution_count": 47,
      "outputs": [
        {
          "output_type": "display_data",
          "data": {
            "text/plain": [
              "0.9952187330304756"
            ]
          },
          "metadata": {}
        },
        {
          "output_type": "display_data",
          "data": {
            "text/plain": [
              "0.9533269760542488"
            ]
          },
          "metadata": {}
        }
      ]
    },
    {
      "cell_type": "code",
      "metadata": {
        "colab": {
          "base_uri": "https://localhost:8080/",
          "height": 52
        },
        "id": "SeOK08ReuyCC",
        "outputId": "54925181-227b-4f7a-fb13-d6e348db2e87"
      },
      "source": [
        "\n",
        "#Trial block for ---SVM (gamma, c)------\n",
        "clt = SVC(gamma = 0.25, C = 2)\n",
        "clt.fit(X_train , Y_train)\n",
        "y_predict = clt.predict(X_train)\n",
        "display(accuracy_score(Y_train, y_predict))\n",
        "\n",
        "y_predict_test = clt.predict(X_test)\n",
        "display(accuracy_score(Y_test, y_predict_test))"
      ],
      "execution_count": 48,
      "outputs": [
        {
          "output_type": "display_data",
          "data": {
            "text/plain": [
              "0.9947816643047296"
            ]
          },
          "metadata": {}
        },
        {
          "output_type": "display_data",
          "data": {
            "text/plain": [
              "0.9332485696122059"
            ]
          },
          "metadata": {}
        }
      ]
    },
    {
      "cell_type": "code",
      "metadata": {
        "colab": {
          "base_uri": "https://localhost:8080/",
          "height": 52
        },
        "id": "mC7RXkxduzhD",
        "outputId": "3e297891-d658-46c5-9543-4afbaad1c63a"
      },
      "source": [
        "#Param tuning on Random Forest with cv = 5\n",
        "param_grid = {\n",
        "    'n_estimators': [200, 300],\n",
        "    'max_depth': [17, 20, 25],\n",
        "    'max_features' : [15, 17, 20] }\n",
        "\n",
        "\n",
        "rf = RandomForestClassifier(random_state = 100)\n",
        "grid_search = GridSearchCV(estimator = rf, param_grid = param_grid, cv = 5)\n",
        "\n",
        "\n",
        "grid_search.fit(X_train,Y_train)\n",
        "y_predict = grid_search.predict(X_train)\n",
        "display(accuracy_score(Y_train, y_predict))\n",
        "\n",
        "y_predict_test = grid_search.predict(X_test)\n",
        "display(accuracy_score(Y_test, y_predict_test))"
      ],
      "execution_count": 49,
      "outputs": [
        {
          "output_type": "display_data",
          "data": {
            "text/plain": [
              "0.999125862548508"
            ]
          },
          "metadata": {}
        },
        {
          "output_type": "display_data",
          "data": {
            "text/plain": [
              "0.9527442254714982"
            ]
          },
          "metadata": {}
        }
      ]
    },
    {
      "cell_type": "code",
      "metadata": {
        "colab": {
          "base_uri": "https://localhost:8080/",
          "height": 52
        },
        "id": "jIIFYn6Wu4xy",
        "outputId": "e5f09357-c1db-4d20-813d-dca300b16b10"
      },
      "source": [
        "#Votting with the best models\n",
        "voting = VotingClassifier(estimators = [('RF', rf), ('AdaBoost', ada1)] , voting = 'hard')\n",
        "voting.fit(X_train, Y_train)\n",
        "\n",
        "display(accuracy_score(Y_train, voting.predict(X_train)))\n",
        "display(accuracy_score(Y_test, voting.predict(X_test)))"
      ],
      "execution_count": 50,
      "outputs": [
        {
          "output_type": "display_data",
          "data": {
            "text/plain": [
              "0.9985563487543542"
            ]
          },
          "metadata": {}
        },
        {
          "output_type": "display_data",
          "data": {
            "text/plain": [
              "0.9527972027972028"
            ]
          },
          "metadata": {}
        }
      ]
    },
    {
      "cell_type": "markdown",
      "metadata": {
        "id": "gZzcf_a6OJg8"
      },
      "source": [
        "# Predicting on Test Data¶\n"
      ]
    },
    {
      "cell_type": "code",
      "metadata": {
        "id": "PJy_if--u9Js"
      },
      "source": [
        "#-------- 1st BEST model File ---------\n",
        "df_test1 = merged_df_test.copy()\n",
        "pred = ada1.predict(df_test)\n",
        "df_test1['Overall_Experience'] = pred\n",
        "sample = df_test1[['ID', 'Overall_Experience']]\n",
        "\n",
        "sample.to_csv('sample_1.csv')"
      ],
      "execution_count": 51,
      "outputs": []
    },
    {
      "cell_type": "code",
      "metadata": {
        "id": "qCBMrYMwkUYH"
      },
      "source": [
        "rf.fit(X_train , Y_train)\n",
        "y_predict = rf.predict(X_train)"
      ],
      "execution_count": 54,
      "outputs": []
    },
    {
      "cell_type": "code",
      "metadata": {
        "id": "NfDkISPrOgbZ"
      },
      "source": [
        "#--------2nd BEST model File ---------\n",
        "df_test1 = merged_df_test.copy()\n",
        "pred = rf.predict(df_test)\n",
        "df_test1['Overall_Experience'] = pred\n",
        "sample = df_test1[['ID', 'Overall_Experience']]\n",
        "sample.to_csv('sample_2.csv')"
      ],
      "execution_count": 55,
      "outputs": []
    },
    {
      "cell_type": "code",
      "metadata": {
        "id": "Hxzxk549ZeAq"
      },
      "source": [
        "prob = rf.predict_proba(df_test)\n",
        "pred = rf.predict(df_test)\n",
        "\n",
        "for i in range(0,35602):\n",
        "    if(prob[i, 1] > 0.47):\n",
        "        pred[i] = 1 \n",
        "        \n",
        "df_test1['Overall_Experience'] = pred\n",
        "sample = df_test1[['ID', 'Overall_Experience']]\n",
        "sample.to_csv('sample_3.csv')"
      ],
      "execution_count": 56,
      "outputs": []
    },
    {
      "cell_type": "code",
      "metadata": {
        "id": "s6_idkagjyUL"
      },
      "source": [
        "ada1 = AdaBoostClassifier(base_estimator=rf, n_estimators=22, learning_rate=0.1, random_state= 88)"
      ],
      "execution_count": 57,
      "outputs": []
    },
    {
      "cell_type": "code",
      "metadata": {
        "colab": {
          "base_uri": "https://localhost:8080/"
        },
        "id": "msH-YoJ6me6O",
        "outputId": "5590745d-29c0-4de4-e0ab-eb49dfc2638b"
      },
      "source": [
        "ada1.fit(X_train , Y_train)"
      ],
      "execution_count": 58,
      "outputs": [
        {
          "output_type": "execute_result",
          "data": {
            "text/plain": [
              "AdaBoostClassifier(algorithm='SAMME.R',\n",
              "                   base_estimator=RandomForestClassifier(bootstrap=True,\n",
              "                                                         ccp_alpha=0.0,\n",
              "                                                         class_weight=None,\n",
              "                                                         criterion='gini',\n",
              "                                                         max_depth=None,\n",
              "                                                         max_features='auto',\n",
              "                                                         max_leaf_nodes=None,\n",
              "                                                         max_samples=None,\n",
              "                                                         min_impurity_decrease=0.0,\n",
              "                                                         min_impurity_split=None,\n",
              "                                                         min_samples_leaf=1,\n",
              "                                                         min_samples_split=2,\n",
              "                                                         min_weight_fraction_leaf=0.0,\n",
              "                                                         n_estimators=100,\n",
              "                                                         n_jobs=None,\n",
              "                                                         oob_score=False,\n",
              "                                                         random_state=100,\n",
              "                                                         verbose=0,\n",
              "                                                         warm_start=False),\n",
              "                   learning_rate=0.1, n_estimators=22, random_state=88)"
            ]
          },
          "metadata": {},
          "execution_count": 58
        }
      ]
    },
    {
      "cell_type": "code",
      "metadata": {
        "id": "hXtHn1FRsSFu"
      },
      "source": [
        "y_predict = ada1.predict(X_train)"
      ],
      "execution_count": 59,
      "outputs": []
    },
    {
      "cell_type": "code",
      "metadata": {
        "id": "HLB13GctsYII"
      },
      "source": [
        "y_predict_test = ada1.predict(X_test) "
      ],
      "execution_count": 61,
      "outputs": []
    },
    {
      "cell_type": "code",
      "metadata": {
        "colab": {
          "base_uri": "https://localhost:8080/",
          "height": 34
        },
        "id": "2Pp-CFscsb5Z",
        "outputId": "d8a148aa-3efe-43f5-95c2-be0d6984391e"
      },
      "source": [
        "display(accuracy_score(Y_test, y_predict_test))"
      ],
      "execution_count": 62,
      "outputs": [
        {
          "output_type": "display_data",
          "data": {
            "text/plain": [
              "0.9521614748887476"
            ]
          },
          "metadata": {}
        }
      ]
    },
    {
      "cell_type": "code",
      "metadata": {
        "id": "XsxgkQh1snwu"
      },
      "source": [
        "param_grid1 = { 'n_estimators': [22, 32], 'learning_rate': [0.1, 1.0, 0.01], 'base_estimator':rf }"
      ],
      "execution_count": 64,
      "outputs": []
    },
    {
      "cell_type": "code",
      "metadata": {
        "id": "sGrqandxtCbP"
      },
      "source": [
        "ada = AdaBoostClassifier(base_estimator=rf, random_state= 88) "
      ],
      "execution_count": 70,
      "outputs": []
    }
  ]
}